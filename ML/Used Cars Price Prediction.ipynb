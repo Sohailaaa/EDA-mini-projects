{
 "cells": [
  {
   "cell_type": "markdown",
   "metadata": {},
   "source": [
    "# Reading Data"
   ]
  },
  {
   "cell_type": "code",
   "execution_count": 1,
   "metadata": {},
   "outputs": [
    {
     "ename": "ModuleNotFoundError",
     "evalue": "No module named 'matplotlib'",
     "output_type": "error",
     "traceback": [
      "\u001b[1;31m---------------------------------------------------------------------------\u001b[0m",
      "\u001b[1;31mModuleNotFoundError\u001b[0m                       Traceback (most recent call last)",
      "Cell \u001b[1;32mIn[1], line 3\u001b[0m\n\u001b[0;32m      1\u001b[0m \u001b[38;5;28;01mimport\u001b[39;00m \u001b[38;5;21;01mpandas\u001b[39;00m \u001b[38;5;28;01mas\u001b[39;00m \u001b[38;5;21;01mpd\u001b[39;00m\n\u001b[0;32m      2\u001b[0m \u001b[38;5;28;01mimport\u001b[39;00m \u001b[38;5;21;01mnumpy\u001b[39;00m \u001b[38;5;28;01mas\u001b[39;00m \u001b[38;5;21;01mnp\u001b[39;00m\n\u001b[1;32m----> 3\u001b[0m \u001b[38;5;28;01mimport\u001b[39;00m \u001b[38;5;21;01mmatplotlib\u001b[39;00m\u001b[38;5;21;01m.\u001b[39;00m\u001b[38;5;21;01mpyplot\u001b[39;00m \u001b[38;5;28;01mas\u001b[39;00m \u001b[38;5;21;01mplt\u001b[39;00m\n\u001b[0;32m      4\u001b[0m \u001b[38;5;28;01mimport\u001b[39;00m \u001b[38;5;21;01mseaborn\u001b[39;00m \u001b[38;5;28;01mas\u001b[39;00m \u001b[38;5;21;01msns\u001b[39;00m\n\u001b[0;32m      6\u001b[0m \u001b[38;5;66;03m# Read the data\u001b[39;00m\n",
      "\u001b[1;31mModuleNotFoundError\u001b[0m: No module named 'matplotlib'"
     ]
    }
   ],
   "source": [
    "import pandas as pd\n",
    "import numpy as np\n",
    "import matplotlib.pyplot as plt\n",
    "import seaborn as sns\n",
    "\n",
    "# Read the data\n",
    "df = pd.read_csv('train-data.csv')\n",
    "df.head()"
   ]
  },
  {
   "cell_type": "markdown",
   "metadata": {},
   "source": [
    "# EDA & Some Cleaning"
   ]
  },
  {
   "cell_type": "code",
   "execution_count": 10,
   "metadata": {},
   "outputs": [
    {
     "name": "stdout",
     "output_type": "stream",
     "text": [
      "<class 'pandas.core.frame.DataFrame'>\n",
      "RangeIndex: 6019 entries, 0 to 6018\n",
      "Data columns (total 14 columns):\n",
      " #   Column             Non-Null Count  Dtype  \n",
      "---  ------             --------------  -----  \n",
      " 0   Unnamed: 0         6019 non-null   int64  \n",
      " 1   Name               6019 non-null   object \n",
      " 2   Location           6019 non-null   object \n",
      " 3   Year               6019 non-null   int64  \n",
      " 4   Kilometers_Driven  6019 non-null   int64  \n",
      " 5   Fuel_Type          6019 non-null   object \n",
      " 6   Transmission       6019 non-null   object \n",
      " 7   Owner_Type         6019 non-null   object \n",
      " 8   Mileage            6017 non-null   object \n",
      " 9   Engine             5983 non-null   object \n",
      " 10  Power              5983 non-null   object \n",
      " 11  Seats              5977 non-null   float64\n",
      " 12  New_Price          824 non-null    object \n",
      " 13  Price              6019 non-null   float64\n",
      "dtypes: float64(2), int64(3), object(9)\n",
      "memory usage: 658.5+ KB\n"
     ]
    }
   ],
   "source": [
    "df.info()"
   ]
  },
  {
   "cell_type": "code",
   "execution_count": 11,
   "metadata": {},
   "outputs": [
    {
     "data": {
      "text/html": [
       "<div>\n",
       "<style scoped>\n",
       "    .dataframe tbody tr th:only-of-type {\n",
       "        vertical-align: middle;\n",
       "    }\n",
       "\n",
       "    .dataframe tbody tr th {\n",
       "        vertical-align: top;\n",
       "    }\n",
       "\n",
       "    .dataframe thead th {\n",
       "        text-align: right;\n",
       "    }\n",
       "</style>\n",
       "<table border=\"1\" class=\"dataframe\">\n",
       "  <thead>\n",
       "    <tr style=\"text-align: right;\">\n",
       "      <th></th>\n",
       "      <th>% null values</th>\n",
       "    </tr>\n",
       "  </thead>\n",
       "  <tbody>\n",
       "    <tr>\n",
       "      <th>Unnamed: 0</th>\n",
       "      <td>0.000000</td>\n",
       "    </tr>\n",
       "    <tr>\n",
       "      <th>Name</th>\n",
       "      <td>0.000000</td>\n",
       "    </tr>\n",
       "    <tr>\n",
       "      <th>Location</th>\n",
       "      <td>0.000000</td>\n",
       "    </tr>\n",
       "    <tr>\n",
       "      <th>Year</th>\n",
       "      <td>0.000000</td>\n",
       "    </tr>\n",
       "    <tr>\n",
       "      <th>Kilometers_Driven</th>\n",
       "      <td>0.000000</td>\n",
       "    </tr>\n",
       "    <tr>\n",
       "      <th>Fuel_Type</th>\n",
       "      <td>0.000000</td>\n",
       "    </tr>\n",
       "    <tr>\n",
       "      <th>Transmission</th>\n",
       "      <td>0.000000</td>\n",
       "    </tr>\n",
       "    <tr>\n",
       "      <th>Owner_Type</th>\n",
       "      <td>0.000000</td>\n",
       "    </tr>\n",
       "    <tr>\n",
       "      <th>Mileage</th>\n",
       "      <td>0.033228</td>\n",
       "    </tr>\n",
       "    <tr>\n",
       "      <th>Engine</th>\n",
       "      <td>0.598106</td>\n",
       "    </tr>\n",
       "    <tr>\n",
       "      <th>Power</th>\n",
       "      <td>0.598106</td>\n",
       "    </tr>\n",
       "    <tr>\n",
       "      <th>Seats</th>\n",
       "      <td>0.697790</td>\n",
       "    </tr>\n",
       "    <tr>\n",
       "      <th>New_Price</th>\n",
       "      <td>86.310018</td>\n",
       "    </tr>\n",
       "    <tr>\n",
       "      <th>Price</th>\n",
       "      <td>0.000000</td>\n",
       "    </tr>\n",
       "  </tbody>\n",
       "</table>\n",
       "</div>"
      ],
      "text/plain": [
       "                   % null values\n",
       "Unnamed: 0              0.000000\n",
       "Name                    0.000000\n",
       "Location                0.000000\n",
       "Year                    0.000000\n",
       "Kilometers_Driven       0.000000\n",
       "Fuel_Type               0.000000\n",
       "Transmission            0.000000\n",
       "Owner_Type              0.000000\n",
       "Mileage                 0.033228\n",
       "Engine                  0.598106\n",
       "Power                   0.598106\n",
       "Seats                   0.697790\n",
       "New_Price              86.310018\n",
       "Price                   0.000000"
      ]
     },
     "execution_count": 11,
     "metadata": {},
     "output_type": "execute_result"
    }
   ],
   "source": [
    "# Check for null values\n",
    "pd.DataFrame(df.isnull().mean()*100, columns=['% null values'])"
   ]
  },
  {
   "cell_type": "code",
   "execution_count": 12,
   "metadata": {},
   "outputs": [],
   "source": [
    "# Drop some columns\n",
    "# 'Unnamed: 0' (just an index) \n",
    "# 'New_Price' (too many null values)\n",
    "\n",
    "df.drop(['Unnamed: 0', 'New_Price'], axis=1, inplace=True)"
   ]
  },
  {
   "cell_type": "code",
   "execution_count": 13,
   "metadata": {},
   "outputs": [
    {
     "data": {
      "text/html": [
       "<div>\n",
       "<style scoped>\n",
       "    .dataframe tbody tr th:only-of-type {\n",
       "        vertical-align: middle;\n",
       "    }\n",
       "\n",
       "    .dataframe tbody tr th {\n",
       "        vertical-align: top;\n",
       "    }\n",
       "\n",
       "    .dataframe thead th {\n",
       "        text-align: right;\n",
       "    }\n",
       "</style>\n",
       "<table border=\"1\" class=\"dataframe\">\n",
       "  <thead>\n",
       "    <tr style=\"text-align: right;\">\n",
       "      <th></th>\n",
       "      <th>Year</th>\n",
       "      <th>Kilometers_Driven</th>\n",
       "      <th>Seats</th>\n",
       "      <th>Price</th>\n",
       "    </tr>\n",
       "  </thead>\n",
       "  <tbody>\n",
       "    <tr>\n",
       "      <th>count</th>\n",
       "      <td>6019.00</td>\n",
       "      <td>6019.00</td>\n",
       "      <td>5977.00</td>\n",
       "      <td>6019.00</td>\n",
       "    </tr>\n",
       "    <tr>\n",
       "      <th>mean</th>\n",
       "      <td>2013.36</td>\n",
       "      <td>58738.38</td>\n",
       "      <td>5.28</td>\n",
       "      <td>9.48</td>\n",
       "    </tr>\n",
       "    <tr>\n",
       "      <th>std</th>\n",
       "      <td>3.27</td>\n",
       "      <td>91268.84</td>\n",
       "      <td>0.81</td>\n",
       "      <td>11.19</td>\n",
       "    </tr>\n",
       "    <tr>\n",
       "      <th>min</th>\n",
       "      <td>1998.00</td>\n",
       "      <td>171.00</td>\n",
       "      <td>0.00</td>\n",
       "      <td>0.44</td>\n",
       "    </tr>\n",
       "    <tr>\n",
       "      <th>25%</th>\n",
       "      <td>2011.00</td>\n",
       "      <td>34000.00</td>\n",
       "      <td>5.00</td>\n",
       "      <td>3.50</td>\n",
       "    </tr>\n",
       "    <tr>\n",
       "      <th>50%</th>\n",
       "      <td>2014.00</td>\n",
       "      <td>53000.00</td>\n",
       "      <td>5.00</td>\n",
       "      <td>5.64</td>\n",
       "    </tr>\n",
       "    <tr>\n",
       "      <th>75%</th>\n",
       "      <td>2016.00</td>\n",
       "      <td>73000.00</td>\n",
       "      <td>5.00</td>\n",
       "      <td>9.95</td>\n",
       "    </tr>\n",
       "    <tr>\n",
       "      <th>max</th>\n",
       "      <td>2019.00</td>\n",
       "      <td>6500000.00</td>\n",
       "      <td>10.00</td>\n",
       "      <td>160.00</td>\n",
       "    </tr>\n",
       "  </tbody>\n",
       "</table>\n",
       "</div>"
      ],
      "text/plain": [
       "         Year  Kilometers_Driven   Seats   Price\n",
       "count 6019.00            6019.00 5977.00 6019.00\n",
       "mean  2013.36           58738.38    5.28    9.48\n",
       "std      3.27           91268.84    0.81   11.19\n",
       "min   1998.00             171.00    0.00    0.44\n",
       "25%   2011.00           34000.00    5.00    3.50\n",
       "50%   2014.00           53000.00    5.00    5.64\n",
       "75%   2016.00           73000.00    5.00    9.95\n",
       "max   2019.00         6500000.00   10.00  160.00"
      ]
     },
     "execution_count": 13,
     "metadata": {},
     "output_type": "execute_result"
    }
   ],
   "source": [
    "# Change the float format\n",
    "pd.options.display.float_format = '{:.2f}'.format\n",
    "df.describe()"
   ]
  },
  {
   "cell_type": "markdown",
   "metadata": {},
   "source": [
    "`Some Strange Numbers`\n",
    "* 'Kilometers_Driven' has max. of 6500000\n",
    "* 'Seats' has min. of 0\n",
    "* 'Price' has max. of 160.0 which is very far from 75% quartile of 9.95\n",
    "\n",
    "`We will handle these outliers later`"
   ]
  },
  {
   "cell_type": "code",
   "execution_count": 14,
   "metadata": {},
   "outputs": [
    {
     "data": {
      "text/html": [
       "<div>\n",
       "<style scoped>\n",
       "    .dataframe tbody tr th:only-of-type {\n",
       "        vertical-align: middle;\n",
       "    }\n",
       "\n",
       "    .dataframe tbody tr th {\n",
       "        vertical-align: top;\n",
       "    }\n",
       "\n",
       "    .dataframe thead th {\n",
       "        text-align: right;\n",
       "    }\n",
       "</style>\n",
       "<table border=\"1\" class=\"dataframe\">\n",
       "  <thead>\n",
       "    <tr style=\"text-align: right;\">\n",
       "      <th></th>\n",
       "      <th>Name</th>\n",
       "      <th>Location</th>\n",
       "      <th>Fuel_Type</th>\n",
       "      <th>Transmission</th>\n",
       "      <th>Owner_Type</th>\n",
       "      <th>Mileage</th>\n",
       "      <th>Engine</th>\n",
       "      <th>Power</th>\n",
       "    </tr>\n",
       "  </thead>\n",
       "  <tbody>\n",
       "    <tr>\n",
       "      <th>count</th>\n",
       "      <td>6019</td>\n",
       "      <td>6019</td>\n",
       "      <td>6019</td>\n",
       "      <td>6019</td>\n",
       "      <td>6019</td>\n",
       "      <td>6017</td>\n",
       "      <td>5983</td>\n",
       "      <td>5983</td>\n",
       "    </tr>\n",
       "    <tr>\n",
       "      <th>unique</th>\n",
       "      <td>1876</td>\n",
       "      <td>11</td>\n",
       "      <td>5</td>\n",
       "      <td>2</td>\n",
       "      <td>4</td>\n",
       "      <td>442</td>\n",
       "      <td>146</td>\n",
       "      <td>372</td>\n",
       "    </tr>\n",
       "    <tr>\n",
       "      <th>top</th>\n",
       "      <td>Mahindra XUV500 W8 2WD</td>\n",
       "      <td>Mumbai</td>\n",
       "      <td>Diesel</td>\n",
       "      <td>Manual</td>\n",
       "      <td>First</td>\n",
       "      <td>18.9 kmpl</td>\n",
       "      <td>1197 CC</td>\n",
       "      <td>74 bhp</td>\n",
       "    </tr>\n",
       "    <tr>\n",
       "      <th>freq</th>\n",
       "      <td>49</td>\n",
       "      <td>790</td>\n",
       "      <td>3205</td>\n",
       "      <td>4299</td>\n",
       "      <td>4929</td>\n",
       "      <td>172</td>\n",
       "      <td>606</td>\n",
       "      <td>235</td>\n",
       "    </tr>\n",
       "  </tbody>\n",
       "</table>\n",
       "</div>"
      ],
      "text/plain": [
       "                          Name Location Fuel_Type Transmission Owner_Type  \\\n",
       "count                     6019     6019      6019         6019       6019   \n",
       "unique                    1876       11         5            2          4   \n",
       "top     Mahindra XUV500 W8 2WD   Mumbai    Diesel       Manual      First   \n",
       "freq                        49      790      3205         4299       4929   \n",
       "\n",
       "          Mileage   Engine   Power  \n",
       "count        6017     5983    5983  \n",
       "unique        442      146     372  \n",
       "top     18.9 kmpl  1197 CC  74 bhp  \n",
       "freq          172      606     235  "
      ]
     },
     "execution_count": 14,
     "metadata": {},
     "output_type": "execute_result"
    }
   ],
   "source": [
    "df.describe(include='O')"
   ]
  },
  {
   "cell_type": "markdown",
   "metadata": {},
   "source": [
    "`Mileage, Engine and Power features need to be converted to float type.`"
   ]
  },
  {
   "cell_type": "code",
   "execution_count": 15,
   "metadata": {},
   "outputs": [],
   "source": [
    "# Drop the null values as they are less than 1% of the data\n",
    "df.dropna(inplace=True)"
   ]
  },
  {
   "cell_type": "code",
   "execution_count": 16,
   "metadata": {},
   "outputs": [
    {
     "name": "stdout",
     "output_type": "stream",
     "text": [
      "Number of unique values in Name feature:  1855\n"
     ]
    },
    {
     "data": {
      "text/plain": [
       "4385                    Maruti Baleno Zeta 1.3\n",
       "4115                    Maruti SX4 ZXI MT BSIV\n",
       "4426                      Ford Figo Petrol EXI\n",
       "5447       Mercedes-Benz GLA Class 200 d Style\n",
       "3527                      Hyundai Verna 1.4 EX\n",
       "409             Audi Q3 35 TDI Quattro Premium\n",
       "1923    Ford EcoSport 1.5 Diesel Titanium Plus\n",
       "4746                  Maruti Wagon R LXI BS IV\n",
       "288           Volkswagen Vento Diesel Highline\n",
       "5937     Mahindra Scorpio VLX 2WD Airbag BSIII\n",
       "Name: Name, dtype: object"
      ]
     },
     "execution_count": 16,
     "metadata": {},
     "output_type": "execute_result"
    }
   ],
   "source": [
    "# Check the 'Name' feature \n",
    "print('Number of unique values in Name feature: ', df['Name'].nunique())\n",
    "df.Name.sample(10)"
   ]
  },
  {
   "cell_type": "markdown",
   "metadata": {},
   "source": [
    "`There is a pattern in the 'Name' column. The brand name appears first followed by the model name.\n",
    " We can extract them into separate columns.`"
   ]
  },
  {
   "cell_type": "code",
   "execution_count": 17,
   "metadata": {},
   "outputs": [],
   "source": [
    "df['Brand'] = df.Name.str.split(' ').str[0]\n",
    "df['Model'] = df.Name.str.split(' ').str[1]\n",
    "\n",
    "df.drop('Name', axis=1, inplace=True)"
   ]
  },
  {
   "cell_type": "code",
   "execution_count": 18,
   "metadata": {},
   "outputs": [
    {
     "name": "stdout",
     "output_type": "stream",
     "text": [
      "Number of unique values in Brand feature:  31\n",
      "Number of unique values in Model feature:  209\n"
     ]
    }
   ],
   "source": [
    "# Check the new features\n",
    "print('Number of unique values in Brand feature: ', df['Brand'].nunique())\n",
    "print('Number of unique values in Model feature: ', df['Model'].nunique())"
   ]
  },
  {
   "cell_type": "code",
   "execution_count": 19,
   "metadata": {},
   "outputs": [
    {
     "name": "stdout",
     "output_type": "stream",
     "text": [
      "First             4903\n",
      "Second             953\n",
      "Third              111\n",
      "Fourth & Above       8\n",
      "Name: Owner_Type, dtype: int64\n",
      "--------------------------------\n",
      "5.00     5012\n",
      "7.00      674\n",
      "8.00      134\n",
      "4.00       99\n",
      "6.00       31\n",
      "2.00       16\n",
      "10.00       5\n",
      "9.00        3\n",
      "0.00        1\n",
      "Name: Seats, dtype: int64\n",
      "--------------------------------\n",
      "Maruti           1197\n",
      "Hyundai          1100\n",
      "Honda             601\n",
      "Toyota            409\n",
      "Mercedes-Benz     318\n",
      "Volkswagen        315\n",
      "Ford              298\n",
      "Mahindra          271\n",
      "BMW               262\n",
      "Audi              236\n",
      "Tata              186\n",
      "Skoda             173\n",
      "Renault           145\n",
      "Chevrolet         121\n",
      "Nissan             91\n",
      "Land               57\n",
      "Jaguar             40\n",
      "Mitsubishi         27\n",
      "Mini               26\n",
      "Fiat               25\n",
      "Volvo              21\n",
      "Porsche            18\n",
      "Jeep               15\n",
      "Datsun             13\n",
      "Force               3\n",
      "ISUZU               2\n",
      "Smart               1\n",
      "Ambassador          1\n",
      "Isuzu               1\n",
      "Bentley             1\n",
      "Lamborghini         1\n",
      "Name: Brand, dtype: int64\n",
      "--------------------------------\n",
      "Mumbai        784\n",
      "Hyderabad     741\n",
      "Kochi         648\n",
      "Coimbatore    634\n",
      "Pune          613\n",
      "Delhi         549\n",
      "Kolkata       530\n",
      "Chennai       490\n",
      "Jaipur        410\n",
      "Bangalore     353\n",
      "Ahmedabad     223\n",
      "Name: Location, dtype: int64\n",
      "--------------------------------\n",
      "Diesel    3195\n",
      "Petrol    2714\n",
      "CNG         56\n",
      "LPG         10\n",
      "Name: Fuel_Type, dtype: int64\n",
      "--------------------------------\n",
      "Manual       4266\n",
      "Automatic    1709\n",
      "Name: Transmission, dtype: int64\n",
      "--------------------------------\n"
     ]
    }
   ],
   "source": [
    "# Check other categorical features\n",
    "for col in ['Owner_Type', 'Seats', 'Brand', 'Location', 'Fuel_Type', 'Transmission']:\n",
    "    print(df[col].value_counts())\n",
    "    print('--------------------------------')"
   ]
  },
  {
   "cell_type": "code",
   "execution_count": 20,
   "metadata": {},
   "outputs": [],
   "source": [
    "# Some Feature Engineering\n",
    "# df.Owner_Type = df.Owner_Type.map({'First':1, 'Second':2, 'Third':3, 'Fourth & Above':4})\n",
    "df.Engine = df.Engine.str.split(' ').str[0]\n",
    "df.Power = df.Power.str.split(' ').str[0]"
   ]
  },
  {
   "cell_type": "code",
   "execution_count": 21,
   "metadata": {},
   "outputs": [
    {
     "data": {
      "text/html": [
       "<div>\n",
       "<style scoped>\n",
       "    .dataframe tbody tr th:only-of-type {\n",
       "        vertical-align: middle;\n",
       "    }\n",
       "\n",
       "    .dataframe tbody tr th {\n",
       "        vertical-align: top;\n",
       "    }\n",
       "\n",
       "    .dataframe thead th {\n",
       "        text-align: right;\n",
       "    }\n",
       "</style>\n",
       "<table border=\"1\" class=\"dataframe\">\n",
       "  <thead>\n",
       "    <tr style=\"text-align: right;\">\n",
       "      <th></th>\n",
       "      <th>Location</th>\n",
       "      <th>Year</th>\n",
       "      <th>Kilometers_Driven</th>\n",
       "      <th>Fuel_Type</th>\n",
       "      <th>Transmission</th>\n",
       "      <th>Owner_Type</th>\n",
       "      <th>Mileage</th>\n",
       "      <th>Engine</th>\n",
       "      <th>Power</th>\n",
       "      <th>Seats</th>\n",
       "      <th>Price</th>\n",
       "      <th>Brand</th>\n",
       "      <th>Model</th>\n",
       "    </tr>\n",
       "  </thead>\n",
       "  <tbody>\n",
       "    <tr>\n",
       "      <th>3850</th>\n",
       "      <td>Hyderabad</td>\n",
       "      <td>2010</td>\n",
       "      <td>75014</td>\n",
       "      <td>Diesel</td>\n",
       "      <td>Manual</td>\n",
       "      <td>First</td>\n",
       "      <td>21.1 kmpl</td>\n",
       "      <td>1248</td>\n",
       "      <td>73.9</td>\n",
       "      <td>5.00</td>\n",
       "      <td>3.85</td>\n",
       "      <td>Maruti</td>\n",
       "      <td>Ritz</td>\n",
       "    </tr>\n",
       "    <tr>\n",
       "      <th>1346</th>\n",
       "      <td>Coimbatore</td>\n",
       "      <td>2012</td>\n",
       "      <td>66245</td>\n",
       "      <td>Petrol</td>\n",
       "      <td>Manual</td>\n",
       "      <td>First</td>\n",
       "      <td>17.0 kmpl</td>\n",
       "      <td>1497</td>\n",
       "      <td>118</td>\n",
       "      <td>5.00</td>\n",
       "      <td>5.68</td>\n",
       "      <td>Honda</td>\n",
       "      <td>City</td>\n",
       "    </tr>\n",
       "    <tr>\n",
       "      <th>3563</th>\n",
       "      <td>Hyderabad</td>\n",
       "      <td>2015</td>\n",
       "      <td>61313</td>\n",
       "      <td>Diesel</td>\n",
       "      <td>Manual</td>\n",
       "      <td>First</td>\n",
       "      <td>23.65 kmpl</td>\n",
       "      <td>1248</td>\n",
       "      <td>88.5</td>\n",
       "      <td>5.00</td>\n",
       "      <td>7.99</td>\n",
       "      <td>Maruti</td>\n",
       "      <td>S</td>\n",
       "    </tr>\n",
       "    <tr>\n",
       "      <th>1168</th>\n",
       "      <td>Hyderabad</td>\n",
       "      <td>2016</td>\n",
       "      <td>21600</td>\n",
       "      <td>Petrol</td>\n",
       "      <td>Automatic</td>\n",
       "      <td>First</td>\n",
       "      <td>23.1 kmpl</td>\n",
       "      <td>998</td>\n",
       "      <td>67.04</td>\n",
       "      <td>5.00</td>\n",
       "      <td>4.65</td>\n",
       "      <td>Maruti</td>\n",
       "      <td>Celerio</td>\n",
       "    </tr>\n",
       "    <tr>\n",
       "      <th>1761</th>\n",
       "      <td>Jaipur</td>\n",
       "      <td>2014</td>\n",
       "      <td>42355</td>\n",
       "      <td>Petrol</td>\n",
       "      <td>Manual</td>\n",
       "      <td>First</td>\n",
       "      <td>18.9 kmpl</td>\n",
       "      <td>1197</td>\n",
       "      <td>82</td>\n",
       "      <td>5.00</td>\n",
       "      <td>4.00</td>\n",
       "      <td>Hyundai</td>\n",
       "      <td>Grand</td>\n",
       "    </tr>\n",
       "  </tbody>\n",
       "</table>\n",
       "</div>"
      ],
      "text/plain": [
       "        Location  Year  Kilometers_Driven Fuel_Type Transmission Owner_Type  \\\n",
       "3850   Hyderabad  2010              75014    Diesel       Manual      First   \n",
       "1346  Coimbatore  2012              66245    Petrol       Manual      First   \n",
       "3563   Hyderabad  2015              61313    Diesel       Manual      First   \n",
       "1168   Hyderabad  2016              21600    Petrol    Automatic      First   \n",
       "1761      Jaipur  2014              42355    Petrol       Manual      First   \n",
       "\n",
       "         Mileage Engine  Power  Seats  Price    Brand    Model  \n",
       "3850   21.1 kmpl   1248   73.9   5.00   3.85   Maruti     Ritz  \n",
       "1346   17.0 kmpl   1497    118   5.00   5.68    Honda     City  \n",
       "3563  23.65 kmpl   1248   88.5   5.00   7.99   Maruti        S  \n",
       "1168   23.1 kmpl    998  67.04   5.00   4.65   Maruti  Celerio  \n",
       "1761   18.9 kmpl   1197     82   5.00   4.00  Hyundai    Grand  "
      ]
     },
     "execution_count": 21,
     "metadata": {},
     "output_type": "execute_result"
    }
   ],
   "source": [
    "df.sample(5)"
   ]
  },
  {
   "cell_type": "code",
   "execution_count": 22,
   "metadata": {},
   "outputs": [
    {
     "data": {
      "text/plain": [
       "0       26.6 km/kg\n",
       "1       19.67 kmpl\n",
       "2        18.2 kmpl\n",
       "3       20.77 kmpl\n",
       "4        15.2 kmpl\n",
       "           ...    \n",
       "6014     28.4 kmpl\n",
       "6015     24.4 kmpl\n",
       "6016     14.0 kmpl\n",
       "6017     18.9 kmpl\n",
       "6018    25.44 kmpl\n",
       "Name: Mileage, Length: 5975, dtype: object"
      ]
     },
     "execution_count": 22,
     "metadata": {},
     "output_type": "execute_result"
    }
   ],
   "source": [
    "# Mileage has different units, so we need to convert them to the same unit\n",
    "df.Mileage"
   ]
  },
  {
   "cell_type": "code",
   "execution_count": 23,
   "metadata": {},
   "outputs": [],
   "source": [
    "# Convert the units to km/kg\n",
    "def get_mileage(x):\n",
    "    num = float(x.split(' ')[0])\n",
    "    unit = x.split(' ')[1]\n",
    "    if unit == 'km/kg':\n",
    "        return num\n",
    "    elif unit == 'kmpl':\n",
    "        return num*1.61\n",
    "    else:\n",
    "        return np.nan\n",
    "    \n",
    "df.Mileage = df.Mileage.apply(get_mileage)"
   ]
  },
  {
   "cell_type": "code",
   "execution_count": 24,
   "metadata": {},
   "outputs": [],
   "source": [
    "# Convert 'Engine' and 'Power' to numeric\n",
    "df.Engine = pd.to_numeric(df.Engine, errors='coerce')\n",
    "df.Power = pd.to_numeric(df.Power, errors='coerce')"
   ]
  },
  {
   "cell_type": "code",
   "execution_count": 25,
   "metadata": {},
   "outputs": [
    {
     "data": {
      "text/html": [
       "<div>\n",
       "<style scoped>\n",
       "    .dataframe tbody tr th:only-of-type {\n",
       "        vertical-align: middle;\n",
       "    }\n",
       "\n",
       "    .dataframe tbody tr th {\n",
       "        vertical-align: top;\n",
       "    }\n",
       "\n",
       "    .dataframe thead th {\n",
       "        text-align: right;\n",
       "    }\n",
       "</style>\n",
       "<table border=\"1\" class=\"dataframe\">\n",
       "  <thead>\n",
       "    <tr style=\"text-align: right;\">\n",
       "      <th></th>\n",
       "      <th>% null values</th>\n",
       "    </tr>\n",
       "  </thead>\n",
       "  <tbody>\n",
       "    <tr>\n",
       "      <th>Location</th>\n",
       "      <td>0.00</td>\n",
       "    </tr>\n",
       "    <tr>\n",
       "      <th>Year</th>\n",
       "      <td>0.00</td>\n",
       "    </tr>\n",
       "    <tr>\n",
       "      <th>Kilometers_Driven</th>\n",
       "      <td>0.00</td>\n",
       "    </tr>\n",
       "    <tr>\n",
       "      <th>Fuel_Type</th>\n",
       "      <td>0.00</td>\n",
       "    </tr>\n",
       "    <tr>\n",
       "      <th>Transmission</th>\n",
       "      <td>0.00</td>\n",
       "    </tr>\n",
       "    <tr>\n",
       "      <th>Owner_Type</th>\n",
       "      <td>0.00</td>\n",
       "    </tr>\n",
       "    <tr>\n",
       "      <th>Mileage</th>\n",
       "      <td>0.00</td>\n",
       "    </tr>\n",
       "    <tr>\n",
       "      <th>Engine</th>\n",
       "      <td>0.00</td>\n",
       "    </tr>\n",
       "    <tr>\n",
       "      <th>Power</th>\n",
       "      <td>1.72</td>\n",
       "    </tr>\n",
       "    <tr>\n",
       "      <th>Seats</th>\n",
       "      <td>0.00</td>\n",
       "    </tr>\n",
       "    <tr>\n",
       "      <th>Price</th>\n",
       "      <td>0.00</td>\n",
       "    </tr>\n",
       "    <tr>\n",
       "      <th>Brand</th>\n",
       "      <td>0.00</td>\n",
       "    </tr>\n",
       "    <tr>\n",
       "      <th>Model</th>\n",
       "      <td>0.00</td>\n",
       "    </tr>\n",
       "  </tbody>\n",
       "</table>\n",
       "</div>"
      ],
      "text/plain": [
       "                   % null values\n",
       "Location                    0.00\n",
       "Year                        0.00\n",
       "Kilometers_Driven           0.00\n",
       "Fuel_Type                   0.00\n",
       "Transmission                0.00\n",
       "Owner_Type                  0.00\n",
       "Mileage                     0.00\n",
       "Engine                      0.00\n",
       "Power                       1.72\n",
       "Seats                       0.00\n",
       "Price                       0.00\n",
       "Brand                       0.00\n",
       "Model                       0.00"
      ]
     },
     "execution_count": 25,
     "metadata": {},
     "output_type": "execute_result"
    }
   ],
   "source": [
    "# Now we have some null values\n",
    "pd.DataFrame(df.isnull().mean()*100, columns=['% null values'])"
   ]
  },
  {
   "cell_type": "markdown",
   "metadata": {},
   "source": [
    "`'Power' has very low null values, but we will impute them`"
   ]
  },
  {
   "cell_type": "code",
   "execution_count": 26,
   "metadata": {},
   "outputs": [
    {
     "data": {
      "text/html": [
       "<div>\n",
       "<style scoped>\n",
       "    .dataframe tbody tr th:only-of-type {\n",
       "        vertical-align: middle;\n",
       "    }\n",
       "\n",
       "    .dataframe tbody tr th {\n",
       "        vertical-align: top;\n",
       "    }\n",
       "\n",
       "    .dataframe thead th {\n",
       "        text-align: right;\n",
       "    }\n",
       "</style>\n",
       "<table border=\"1\" class=\"dataframe\">\n",
       "  <thead>\n",
       "    <tr style=\"text-align: right;\">\n",
       "      <th></th>\n",
       "      <th>Year</th>\n",
       "      <th>Kilometers_Driven</th>\n",
       "      <th>Mileage</th>\n",
       "      <th>Engine</th>\n",
       "      <th>Power</th>\n",
       "      <th>Seats</th>\n",
       "      <th>Price</th>\n",
       "    </tr>\n",
       "  </thead>\n",
       "  <tbody>\n",
       "    <tr>\n",
       "      <th>count</th>\n",
       "      <td>5975.00</td>\n",
       "      <td>5975.00</td>\n",
       "      <td>5975.00</td>\n",
       "      <td>5975.00</td>\n",
       "      <td>5872.00</td>\n",
       "      <td>5975.00</td>\n",
       "      <td>5975.00</td>\n",
       "    </tr>\n",
       "    <tr>\n",
       "      <th>mean</th>\n",
       "      <td>2013.39</td>\n",
       "      <td>58674.31</td>\n",
       "      <td>29.10</td>\n",
       "      <td>1621.61</td>\n",
       "      <td>113.28</td>\n",
       "      <td>5.28</td>\n",
       "      <td>9.50</td>\n",
       "    </tr>\n",
       "    <tr>\n",
       "      <th>std</th>\n",
       "      <td>3.25</td>\n",
       "      <td>91558.51</td>\n",
       "      <td>7.17</td>\n",
       "      <td>601.04</td>\n",
       "      <td>53.88</td>\n",
       "      <td>0.81</td>\n",
       "      <td>11.21</td>\n",
       "    </tr>\n",
       "    <tr>\n",
       "      <th>min</th>\n",
       "      <td>1998.00</td>\n",
       "      <td>171.00</td>\n",
       "      <td>0.00</td>\n",
       "      <td>624.00</td>\n",
       "      <td>34.20</td>\n",
       "      <td>0.00</td>\n",
       "      <td>0.44</td>\n",
       "    </tr>\n",
       "    <tr>\n",
       "      <th>25%</th>\n",
       "      <td>2012.00</td>\n",
       "      <td>33908.00</td>\n",
       "      <td>24.31</td>\n",
       "      <td>1198.00</td>\n",
       "      <td>75.00</td>\n",
       "      <td>5.00</td>\n",
       "      <td>3.50</td>\n",
       "    </tr>\n",
       "    <tr>\n",
       "      <th>50%</th>\n",
       "      <td>2014.00</td>\n",
       "      <td>53000.00</td>\n",
       "      <td>29.14</td>\n",
       "      <td>1493.00</td>\n",
       "      <td>97.70</td>\n",
       "      <td>5.00</td>\n",
       "      <td>5.65</td>\n",
       "    </tr>\n",
       "    <tr>\n",
       "      <th>75%</th>\n",
       "      <td>2016.00</td>\n",
       "      <td>73000.00</td>\n",
       "      <td>33.68</td>\n",
       "      <td>1984.00</td>\n",
       "      <td>138.10</td>\n",
       "      <td>5.00</td>\n",
       "      <td>9.95</td>\n",
       "    </tr>\n",
       "    <tr>\n",
       "      <th>max</th>\n",
       "      <td>2019.00</td>\n",
       "      <td>6500000.00</td>\n",
       "      <td>45.72</td>\n",
       "      <td>5998.00</td>\n",
       "      <td>560.00</td>\n",
       "      <td>10.00</td>\n",
       "      <td>160.00</td>\n",
       "    </tr>\n",
       "  </tbody>\n",
       "</table>\n",
       "</div>"
      ],
      "text/plain": [
       "         Year  Kilometers_Driven  Mileage  Engine   Power   Seats   Price\n",
       "count 5975.00            5975.00  5975.00 5975.00 5872.00 5975.00 5975.00\n",
       "mean  2013.39           58674.31    29.10 1621.61  113.28    5.28    9.50\n",
       "std      3.25           91558.51     7.17  601.04   53.88    0.81   11.21\n",
       "min   1998.00             171.00     0.00  624.00   34.20    0.00    0.44\n",
       "25%   2012.00           33908.00    24.31 1198.00   75.00    5.00    3.50\n",
       "50%   2014.00           53000.00    29.14 1493.00   97.70    5.00    5.65\n",
       "75%   2016.00           73000.00    33.68 1984.00  138.10    5.00    9.95\n",
       "max   2019.00         6500000.00    45.72 5998.00  560.00   10.00  160.00"
      ]
     },
     "execution_count": 26,
     "metadata": {},
     "output_type": "execute_result"
    }
   ],
   "source": [
    "df.describe()"
   ]
  },
  {
   "cell_type": "code",
   "execution_count": 27,
   "metadata": {},
   "outputs": [
    {
     "data": {
      "text/html": [
       "<div>\n",
       "<style scoped>\n",
       "    .dataframe tbody tr th:only-of-type {\n",
       "        vertical-align: middle;\n",
       "    }\n",
       "\n",
       "    .dataframe tbody tr th {\n",
       "        vertical-align: top;\n",
       "    }\n",
       "\n",
       "    .dataframe thead th {\n",
       "        text-align: right;\n",
       "    }\n",
       "</style>\n",
       "<table border=\"1\" class=\"dataframe\">\n",
       "  <thead>\n",
       "    <tr style=\"text-align: right;\">\n",
       "      <th></th>\n",
       "      <th>Location</th>\n",
       "      <th>Fuel_Type</th>\n",
       "      <th>Transmission</th>\n",
       "      <th>Owner_Type</th>\n",
       "      <th>Brand</th>\n",
       "      <th>Model</th>\n",
       "    </tr>\n",
       "  </thead>\n",
       "  <tbody>\n",
       "    <tr>\n",
       "      <th>count</th>\n",
       "      <td>5975</td>\n",
       "      <td>5975</td>\n",
       "      <td>5975</td>\n",
       "      <td>5975</td>\n",
       "      <td>5975</td>\n",
       "      <td>5975</td>\n",
       "    </tr>\n",
       "    <tr>\n",
       "      <th>unique</th>\n",
       "      <td>11</td>\n",
       "      <td>4</td>\n",
       "      <td>2</td>\n",
       "      <td>4</td>\n",
       "      <td>31</td>\n",
       "      <td>209</td>\n",
       "    </tr>\n",
       "    <tr>\n",
       "      <th>top</th>\n",
       "      <td>Mumbai</td>\n",
       "      <td>Diesel</td>\n",
       "      <td>Manual</td>\n",
       "      <td>First</td>\n",
       "      <td>Maruti</td>\n",
       "      <td>Swift</td>\n",
       "    </tr>\n",
       "    <tr>\n",
       "      <th>freq</th>\n",
       "      <td>784</td>\n",
       "      <td>3195</td>\n",
       "      <td>4266</td>\n",
       "      <td>4903</td>\n",
       "      <td>1197</td>\n",
       "      <td>343</td>\n",
       "    </tr>\n",
       "  </tbody>\n",
       "</table>\n",
       "</div>"
      ],
      "text/plain": [
       "       Location Fuel_Type Transmission Owner_Type   Brand  Model\n",
       "count      5975      5975         5975       5975    5975   5975\n",
       "unique       11         4            2          4      31    209\n",
       "top      Mumbai    Diesel       Manual      First  Maruti  Swift\n",
       "freq        784      3195         4266       4903    1197    343"
      ]
     },
     "execution_count": 27,
     "metadata": {},
     "output_type": "execute_result"
    }
   ],
   "source": [
    "df.describe(include='object')"
   ]
  },
  {
   "cell_type": "markdown",
   "metadata": {},
   "source": [
    "`Now, Data Types are correct`"
   ]
  },
  {
   "cell_type": "markdown",
   "metadata": {},
   "source": [
    "`Let's check the distributions of the numerical features`"
   ]
  },
  {
   "cell_type": "code",
   "execution_count": 28,
   "metadata": {},
   "outputs": [
    {
     "data": {
      "text/plain": [
       "<Axes: xlabel='Price', ylabel='Count'>"
      ]
     },
     "execution_count": 28,
     "metadata": {},
     "output_type": "execute_result"
    },
    {
     "data": {
      "image/png": "[encoded data removed]",
      "text/plain": [
       "<Figure size 2000x1000 with 6 Axes>"
      ]
     },
     "metadata": {},
     "output_type": "display_data"
    }
   ],
   "source": [
    "# Distribution of the numerical features\n",
    "# make grid plot\n",
    "fig, axes = plt.subplots(3, 2, figsize=(20, 10))\n",
    "fig.suptitle('Distribution of the numerical features')\n",
    "sns.histplot(ax=axes[0, 0], data=df, x='Kilometers_Driven', kde=True)\n",
    "sns.histplot(ax=axes[0, 1], data=df, x='Mileage', kde=True)\n",
    "sns.histplot(ax=axes[1, 0], data=df, x='Engine', kde=True)\n",
    "sns.histplot(ax=axes[1, 1], data=df, x='Power', kde=True)\n",
    "sns.histplot(ax=axes[2, 0], data=df, x='Seats', kde=True)\n",
    "sns.histplot(ax=axes[2, 1], data=df, x='Price', kde=True)"
   ]
  },
  {
   "cell_type": "code",
   "execution_count": 29,
   "metadata": {},
   "outputs": [
    {
     "data": {
      "text/plain": [
       "<Axes: xlabel='Price'>"
      ]
     },
     "execution_count": 29,
     "metadata": {},
     "output_type": "execute_result"
    },
    {
     "data": {
      "image/png": "[encoded data removed]",
      "text/plain": [
       "<Figure size 2000x1000 with 6 Axes>"
      ]
     },
     "metadata": {},
     "output_type": "display_data"
    }
   ],
   "source": [
    "# Box plot for the numerical features\n",
    "# make grid plot\n",
    "fig, axes = plt.subplots(3, 2, figsize=(20, 10))\n",
    "fig.suptitle('Distribution of the numerical features')\n",
    "sns.boxplot(ax=axes[0, 0], data=df, x='Kilometers_Driven')\n",
    "sns.boxplot(ax=axes[0, 1], data=df, x='Mileage')\n",
    "sns.boxplot(ax=axes[1, 0], data=df, x='Engine')\n",
    "sns.boxplot(ax=axes[1, 1], data=df, x='Power')\n",
    "sns.boxplot(ax=axes[2, 0], data=df, x='Seats')\n",
    "sns.boxplot(ax=axes[2, 1], data=df, x='Price')\n"
   ]
  },
  {
   "cell_type": "code",
   "execution_count": 30,
   "metadata": {},
   "outputs": [
    {
     "data": {
      "text/html": [
       "<div>\n",
       "<style scoped>\n",
       "    .dataframe tbody tr th:only-of-type {\n",
       "        vertical-align: middle;\n",
       "    }\n",
       "\n",
       "    .dataframe tbody tr th {\n",
       "        vertical-align: top;\n",
       "    }\n",
       "\n",
       "    .dataframe thead th {\n",
       "        text-align: right;\n",
       "    }\n",
       "</style>\n",
       "<table border=\"1\" class=\"dataframe\">\n",
       "  <thead>\n",
       "    <tr style=\"text-align: right;\">\n",
       "      <th></th>\n",
       "      <th>Year</th>\n",
       "      <th>Kilometers_Driven</th>\n",
       "      <th>Mileage</th>\n",
       "      <th>Engine</th>\n",
       "      <th>Power</th>\n",
       "      <th>Seats</th>\n",
       "      <th>Price</th>\n",
       "    </tr>\n",
       "  </thead>\n",
       "  <tbody>\n",
       "    <tr>\n",
       "      <th>0.00</th>\n",
       "      <td>1998.00</td>\n",
       "      <td>171.00</td>\n",
       "      <td>0.00</td>\n",
       "      <td>624.00</td>\n",
       "      <td>34.20</td>\n",
       "      <td>0.00</td>\n",
       "      <td>0.44</td>\n",
       "    </tr>\n",
       "    <tr>\n",
       "      <th>0.10</th>\n",
       "      <td>2009.00</td>\n",
       "      <td>20000.00</td>\n",
       "      <td>20.45</td>\n",
       "      <td>1061.00</td>\n",
       "      <td>67.04</td>\n",
       "      <td>5.00</td>\n",
       "      <td>2.35</td>\n",
       "    </tr>\n",
       "    <tr>\n",
       "      <th>0.25</th>\n",
       "      <td>2012.00</td>\n",
       "      <td>33908.00</td>\n",
       "      <td>24.31</td>\n",
       "      <td>1198.00</td>\n",
       "      <td>75.00</td>\n",
       "      <td>5.00</td>\n",
       "      <td>3.50</td>\n",
       "    </tr>\n",
       "    <tr>\n",
       "      <th>0.90</th>\n",
       "      <td>2017.00</td>\n",
       "      <td>96719.00</td>\n",
       "      <td>38.38</td>\n",
       "      <td>2494.00</td>\n",
       "      <td>184.00</td>\n",
       "      <td>7.00</td>\n",
       "      <td>22.50</td>\n",
       "    </tr>\n",
       "    <tr>\n",
       "      <th>0.95</th>\n",
       "      <td>2018.00</td>\n",
       "      <td>120000.00</td>\n",
       "      <td>40.89</td>\n",
       "      <td>2982.00</td>\n",
       "      <td>204.00</td>\n",
       "      <td>7.00</td>\n",
       "      <td>32.50</td>\n",
       "    </tr>\n",
       "    <tr>\n",
       "      <th>0.99</th>\n",
       "      <td>2019.00</td>\n",
       "      <td>172297.00</td>\n",
       "      <td>45.22</td>\n",
       "      <td>3197.26</td>\n",
       "      <td>287.22</td>\n",
       "      <td>8.00</td>\n",
       "      <td>56.04</td>\n",
       "    </tr>\n",
       "    <tr>\n",
       "      <th>1.00</th>\n",
       "      <td>2019.00</td>\n",
       "      <td>6500000.00</td>\n",
       "      <td>45.72</td>\n",
       "      <td>5998.00</td>\n",
       "      <td>560.00</td>\n",
       "      <td>10.00</td>\n",
       "      <td>160.00</td>\n",
       "    </tr>\n",
       "  </tbody>\n",
       "</table>\n",
       "</div>"
      ],
      "text/plain": [
       "        Year  Kilometers_Driven  Mileage  Engine  Power  Seats  Price\n",
       "0.00 1998.00             171.00     0.00  624.00  34.20   0.00   0.44\n",
       "0.10 2009.00           20000.00    20.45 1061.00  67.04   5.00   2.35\n",
       "0.25 2012.00           33908.00    24.31 1198.00  75.00   5.00   3.50\n",
       "0.90 2017.00           96719.00    38.38 2494.00 184.00   7.00  22.50\n",
       "0.95 2018.00          120000.00    40.89 2982.00 204.00   7.00  32.50\n",
       "0.99 2019.00          172297.00    45.22 3197.26 287.22   8.00  56.04\n",
       "1.00 2019.00         6500000.00    45.72 5998.00 560.00  10.00 160.00"
      ]
     },
     "execution_count": 30,
     "metadata": {},
     "output_type": "execute_result"
    }
   ],
   "source": [
    "df.quantile([0, 0.1, 0.25,  0.9, 0.95, 0.99, 1])"
   ]
  },
  {
   "cell_type": "markdown",
   "metadata": {},
   "source": [
    "`There are clear outliers in the 'Kilometer_Driven', 'Mileage' and 'Price' columns. We will remove them Now.`"
   ]
  },
  {
   "cell_type": "code",
   "execution_count": 31,
   "metadata": {},
   "outputs": [],
   "source": [
    "# We would use quantiles to remove outliers\n",
    "\n",
    "# Take a copy of the data first\n",
    "df_copy = df.copy()\n",
    "\n",
    "# Remove the outliers\n",
    "df_copy = df_copy[df_copy.Kilometers_Driven < df_copy.Kilometers_Driven.quantile(0.99)]\n",
    "df_copy = df_copy[df_copy.Mileage > 0]\n",
    "df_copy = df_copy[df_copy.Seats > 0]\n",
    "df_copy = df_copy[df_copy.Price < 100]\n"
   ]
  },
  {
   "cell_type": "code",
   "execution_count": 32,
   "metadata": {},
   "outputs": [],
   "source": [
    "# # Take a copy of the data first\n",
    "# df_copy = df.copy()\n",
    "\n",
    "# # Remove the outliers\n",
    "# df_copy = df_copy[df_copy.Kilometers_Driven < 6000000]\n",
    "# df_copy = df_copy[df_copy.Mileage > 0]\n",
    "# df_copy = df_copy[df_copy.Engine < 5000]"
   ]
  },
  {
   "cell_type": "code",
   "execution_count": 33,
   "metadata": {},
   "outputs": [
    {
     "data": {
      "text/plain": [
       "<Axes: xlabel='Price'>"
      ]
     },
     "execution_count": 33,
     "metadata": {},
     "output_type": "execute_result"
    },
    {
     "data": {
      "image/png": "[encoded data removed]",
      "text/plain": [
       "<Figure size 2000x1000 with 6 Axes>"
      ]
     },
     "metadata": {},
     "output_type": "display_data"
    }
   ],
   "source": [
    "# Recheck the box plot\n",
    "\n",
    "fig, axes = plt.subplots(3, 2, figsize=(20, 10))\n",
    "fig.suptitle('Distribution of the numerical features')\n",
    "sns.boxplot(ax=axes[0, 0], data=df_copy, x='Kilometers_Driven')\n",
    "sns.boxplot(ax=axes[0, 1], data=df_copy, x='Mileage')\n",
    "sns.boxplot(ax=axes[1, 0], data=df_copy, x='Engine')\n",
    "sns.boxplot(ax=axes[1, 1], data=df_copy, x='Power')\n",
    "sns.boxplot(ax=axes[2, 0], data=df_copy, x='Seats')\n",
    "sns.boxplot(ax=axes[2, 1], data=df_copy, x='Price')"
   ]
  },
  {
   "cell_type": "code",
   "execution_count": 34,
   "metadata": {},
   "outputs": [
    {
     "name": "stdout",
     "output_type": "stream",
     "text": [
      "Shape of the original dataframe:  (5975, 13)\n",
      "Shape of the new dataframe:  (5858, 13)\n",
      "Percentage of data removed: 1.96%\n"
     ]
    }
   ],
   "source": [
    "# Compare the two dataframes\n",
    "print('Shape of the original dataframe: ', df.shape)\n",
    "print('Shape of the new dataframe: ', df_copy.shape)\n",
    "print('Percentage of data removed: {:.2f}%'.format((df.shape[0]-df_copy.shape[0])/df.shape[0]*100))"
   ]
  },
  {
   "cell_type": "code",
   "execution_count": 35,
   "metadata": {},
   "outputs": [
    {
     "data": {
      "text/html": [
       "<div>\n",
       "<style scoped>\n",
       "    .dataframe tbody tr th:only-of-type {\n",
       "        vertical-align: middle;\n",
       "    }\n",
       "\n",
       "    .dataframe tbody tr th {\n",
       "        vertical-align: top;\n",
       "    }\n",
       "\n",
       "    .dataframe thead th {\n",
       "        text-align: right;\n",
       "    }\n",
       "</style>\n",
       "<table border=\"1\" class=\"dataframe\">\n",
       "  <thead>\n",
       "    <tr style=\"text-align: right;\">\n",
       "      <th></th>\n",
       "      <th>Year</th>\n",
       "      <th>Kilometers_Driven</th>\n",
       "      <th>Mileage</th>\n",
       "      <th>Engine</th>\n",
       "      <th>Power</th>\n",
       "      <th>Seats</th>\n",
       "      <th>Price</th>\n",
       "    </tr>\n",
       "  </thead>\n",
       "  <tbody>\n",
       "    <tr>\n",
       "      <th>0.80</th>\n",
       "      <td>2016.00</td>\n",
       "      <td>77835.40</td>\n",
       "      <td>35.53</td>\n",
       "      <td>1998.00</td>\n",
       "      <td>152.00</td>\n",
       "      <td>5.00</td>\n",
       "      <td>12.50</td>\n",
       "    </tr>\n",
       "    <tr>\n",
       "      <th>0.90</th>\n",
       "      <td>2017.00</td>\n",
       "      <td>93347.80</td>\n",
       "      <td>38.48</td>\n",
       "      <td>2494.00</td>\n",
       "      <td>184.00</td>\n",
       "      <td>7.00</td>\n",
       "      <td>22.21</td>\n",
       "    </tr>\n",
       "    <tr>\n",
       "      <th>0.95</th>\n",
       "      <td>2018.00</td>\n",
       "      <td>115000.00</td>\n",
       "      <td>40.89</td>\n",
       "      <td>2982.00</td>\n",
       "      <td>204.00</td>\n",
       "      <td>7.00</td>\n",
       "      <td>32.00</td>\n",
       "    </tr>\n",
       "    <tr>\n",
       "      <th>0.99</th>\n",
       "      <td>2019.00</td>\n",
       "      <td>150000.00</td>\n",
       "      <td>45.22</td>\n",
       "      <td>2996.00</td>\n",
       "      <td>282.00</td>\n",
       "      <td>8.00</td>\n",
       "      <td>56.00</td>\n",
       "    </tr>\n",
       "    <tr>\n",
       "      <th>1.00</th>\n",
       "      <td>2019.00</td>\n",
       "      <td>172050.00</td>\n",
       "      <td>45.72</td>\n",
       "      <td>5998.00</td>\n",
       "      <td>552.00</td>\n",
       "      <td>10.00</td>\n",
       "      <td>97.07</td>\n",
       "    </tr>\n",
       "  </tbody>\n",
       "</table>\n",
       "</div>"
      ],
      "text/plain": [
       "        Year  Kilometers_Driven  Mileage  Engine  Power  Seats  Price\n",
       "0.80 2016.00           77835.40    35.53 1998.00 152.00   5.00  12.50\n",
       "0.90 2017.00           93347.80    38.48 2494.00 184.00   7.00  22.21\n",
       "0.95 2018.00          115000.00    40.89 2982.00 204.00   7.00  32.00\n",
       "0.99 2019.00          150000.00    45.22 2996.00 282.00   8.00  56.00\n",
       "1.00 2019.00          172050.00    45.72 5998.00 552.00  10.00  97.07"
      ]
     },
     "execution_count": 35,
     "metadata": {},
     "output_type": "execute_result"
    }
   ],
   "source": [
    "df_copy.quantile([0.8, 0.9, 0.95, 0.99, 1])"
   ]
  },
  {
   "cell_type": "code",
   "execution_count": 36,
   "metadata": {},
   "outputs": [
    {
     "data": {
      "text/plain": [
       "<Axes: >"
      ]
     },
     "execution_count": 36,
     "metadata": {},
     "output_type": "execute_result"
    },
    {
     "data": {
      "image/png": "[encoded data removed]",
      "text/plain": [
       "<Figure size 640x480 with 2 Axes>"
      ]
     },
     "metadata": {},
     "output_type": "display_data"
    }
   ],
   "source": [
    "# Check the correlation between the numerical features\n",
    "# Heatmap\n",
    "sns.heatmap(df_copy.corr(), annot=True, cmap='RdYlGn', center=0)"
   ]
  },
  {
   "cell_type": "code",
   "execution_count": 37,
   "metadata": {},
   "outputs": [
    {
     "data": {
      "text/plain": [
       "Price                1.00\n",
       "Power                0.78\n",
       "Engine               0.67\n",
       "Year                 0.31\n",
       "Seats                0.08\n",
       "Kilometers_Driven   -0.19\n",
       "Mileage             -0.33\n",
       "Name: Price, dtype: float64"
      ]
     },
     "execution_count": 37,
     "metadata": {},
     "output_type": "execute_result"
    }
   ],
   "source": [
    "# Correlation with the target\n",
    "df_copy.corr()['Price'].sort_values(ascending=False)"
   ]
  },
  {
   "cell_type": "code",
   "execution_count": 38,
   "metadata": {},
   "outputs": [
    {
     "data": {
      "image/png": "[encoded data removed]",
      "text/plain": [
       "<Figure size 640x480 with 1 Axes>"
      ]
     },
     "metadata": {},
     "output_type": "display_data"
    }
   ],
   "source": [
    "# Reascending \n",
    "asc_num_features = df_copy.corr()['Price'].apply(abs).sort_values(ascending=False).drop('Price')\n",
    "sns.barplot(x=asc_num_features, y=asc_num_features.index)\n",
    "plt.title('Absolute Correlation with the target')\n",
    "plt.show()"
   ]
  },
  {
   "cell_type": "markdown",
   "metadata": {},
   "source": [
    "# Data Splitting\n"
   ]
  },
  {
   "cell_type": "code",
   "execution_count": 39,
   "metadata": {},
   "outputs": [],
   "source": [
    "X = df_copy.drop('Price', axis=1)\n",
    "y = df_copy.Price\n",
    "\n",
    "from sklearn.model_selection import train_test_split\n",
    "X_train, X_test, y_train, y_test = train_test_split(X, y, test_size=0.2, random_state=42)"
   ]
  },
  {
   "cell_type": "code",
   "execution_count": 40,
   "metadata": {},
   "outputs": [],
   "source": [
    "# Splitting Columns\n",
    "\n",
    "num_cols = ['Kilometers_Driven', 'Mileage', 'Engine', 'Power', 'Seats', 'Year']\n",
    "nom_cat_cols = ['Location', 'Fuel_Type', 'Transmission', 'Brand', 'Model']  \n",
    "ord_cat_cols = ['Owner_Type']  "
   ]
  },
  {
   "cell_type": "markdown",
   "metadata": {},
   "source": [
    "# Data Preprocessing\n"
   ]
  },
  {
   "cell_type": "code",
   "execution_count": 41,
   "metadata": {},
   "outputs": [],
   "source": [
    "from category_encoders import BinaryEncoder\n",
    "from sklearn.impute import SimpleImputer\n",
    "from sklearn.preprocessing import StandardScaler, OrdinalEncoder\n",
    "from sklearn.pipeline import Pipeline\n",
    "from sklearn.compose import ColumnTransformer\n",
    "\n",
    "# Preprocessing for numerical data\n",
    "numerical_transformer = Pipeline(steps=[ ('imputer', SimpleImputer(strategy='median')),\n",
    "                                         ('scaler', StandardScaler())])\n",
    "\n",
    "# Preprocessing for categorical data\n",
    "nominal_categorical_transformer = Pipeline(steps=[('binary', BinaryEncoder())])\n",
    "ordinal_categorical_transformer = Pipeline(steps=[('ordinal', OrdinalEncoder(categories=[['Fourth & Above', 'Third', 'Second', 'First']]))])\n",
    "\n",
    "# Bundle preprocessing for numerical and categorical data\n",
    "preprocessor = ColumnTransformer(transformers=[('num_prep', numerical_transformer, num_cols),\n",
    "                                                ('nom_prep', nominal_categorical_transformer, nom_cat_cols),\n",
    "                                                ('ord_prep', ordinal_categorical_transformer, ord_cat_cols)])\n",
    "\n",
    "X_train_preprocessed = preprocessor.fit_transform(X_train)\n",
    "X_test_preprocessed = preprocessor.transform(X_test)"
   ]
  },
  {
   "cell_type": "code",
   "execution_count": 42,
   "metadata": {},
   "outputs": [
    {
     "data": {
      "text/plain": [
       "((4686, 29), (1172, 29))"
      ]
     },
     "execution_count": 42,
     "metadata": {},
     "output_type": "execute_result"
    }
   ],
   "source": [
    "X_train_preprocessed.shape, X_test_preprocessed.shape"
   ]
  },
  {
   "cell_type": "code",
   "execution_count": 43,
   "metadata": {},
   "outputs": [
    {
     "name": "stdout",
     "output_type": "stream",
     "text": [
      "RMSE: 5.355396132137569\n",
      "R2: 0.744933358046642\n"
     ]
    }
   ],
   "source": [
    "# Model Building\n",
    "from sklearn.linear_model import LinearRegression\n",
    "\n",
    "# Linear Regression\n",
    "lr = LinearRegression()\n",
    "lr.fit(X_train_preprocessed, y_train)\n",
    "\n",
    "# Model Evaluation\n",
    "from sklearn.metrics import mean_squared_error, r2_score\n",
    "\n",
    "# Predictions\n",
    "y_pred = lr.predict(X_test_preprocessed)\n",
    "\n",
    "# Model Evaluation\n",
    "print('RMSE:', np.sqrt(mean_squared_error(y_test, y_pred)))\n",
    "print('R2:', r2_score(y_test, y_pred))"
   ]
  },
  {
   "cell_type": "code",
   "execution_count": 44,
   "metadata": {},
   "outputs": [
    {
     "name": "stdout",
     "output_type": "stream",
     "text": [
      "Training Accuracy: 0.7380686769440519\n",
      "Training Accuracy: 0.7380686769440519\n"
     ]
    }
   ],
   "source": [
    "# Training Accuracy\n",
    "print('Training Accuracy:', lr.score(X_train_preprocessed, y_train))\n",
    "y_train_pred = lr.predict(X_train_preprocessed)\n",
    "print('Training Accuracy:', r2_score(y_train, y_train_pred))"
   ]
  },
  {
   "cell_type": "code",
   "execution_count": 45,
   "metadata": {},
   "outputs": [
    {
     "name": "stdout",
     "output_type": "stream",
     "text": [
      "Testing Accuracy: 0.744933358046642\n",
      "Testing Accuracy: 0.744933358046642\n"
     ]
    }
   ],
   "source": [
    "# Testing Accuracy\n",
    "print('Testing Accuracy:', lr.score(X_test_preprocessed, y_test))\n",
    "y_test_pred = lr.predict(X_test_preprocessed)\n",
    "print('Testing Accuracy:', r2_score(y_test, y_test_pred))"
   ]
  },
  {
   "cell_type": "code",
   "execution_count": 46,
   "metadata": {},
   "outputs": [
    {
     "name": "stdout",
     "output_type": "stream",
     "text": [
      "Training Accuracy 0.9351768917834197\n",
      "Testing Accuracy -1.0931783404492823e+18\n"
     ]
    }
   ],
   "source": [
    "# Polynomial Regression\n",
    "from sklearn.preprocessing import PolynomialFeatures\n",
    "\n",
    "poly = PolynomialFeatures(degree=2)\n",
    "X_train_poly = poly.fit_transform(X_train_preprocessed)\n",
    "X_test_poly = poly.transform(X_test_preprocessed)\n",
    "\n",
    "lr_poly = LinearRegression()\n",
    "\n",
    "lr_poly.fit(X_train_poly, y_train)\n",
    "\n",
    "# Accuracy\n",
    "print('Training Accuracy', lr_poly.score(X_train_poly, y_train))\n",
    "print('Testing Accuracy', lr_poly.score(X_test_poly, y_test))\n"
   ]
  },
  {
   "cell_type": "code",
   "execution_count": 47,
   "metadata": {},
   "outputs": [
    {
     "data": {
      "text/plain": [
       "((4686, 29), (4686, 465))"
      ]
     },
     "execution_count": 47,
     "metadata": {},
     "output_type": "execute_result"
    }
   ],
   "source": [
    "X_train_preprocessed.shape, X_train_poly.shape"
   ]
  },
  {
   "cell_type": "code",
   "execution_count": 48,
   "metadata": {},
   "outputs": [
    {
     "name": "stdout",
     "output_type": "stream",
     "text": [
      "RMSE: 5.3556022607308345\n",
      "R2: 0.7449137226961917\n"
     ]
    }
   ],
   "source": [
    "# Ridge Regression\n",
    "from sklearn.linear_model import Ridge\n",
    "\n",
    "ridge = Ridge()\n",
    "ridge.fit(X_train_preprocessed, y_train)\n",
    "\n",
    "# Predictions\n",
    "y_pred = ridge.predict(X_test_preprocessed)\n",
    "\n",
    "# Model Evaluation\n",
    "print('RMSE:', np.sqrt(mean_squared_error(y_test, y_pred)))\n",
    "print('R2:', r2_score(y_test, y_pred))"
   ]
  },
  {
   "cell_type": "code",
   "execution_count": 49,
   "metadata": {},
   "outputs": [
    {
     "name": "stdout",
     "output_type": "stream",
     "text": [
      "RMSE: 3.28432146456972\n",
      "R2: 0.9040683795205222\n"
     ]
    }
   ],
   "source": [
    "# Ridge Regression with polynomial features\n",
    "from sklearn.linear_model import Ridge\n",
    "\n",
    "ridge = Ridge(alpha= 100)\n",
    "ridge.fit(X_train_poly, y_train)\n",
    "\n",
    "# Predictions\n",
    "y_pred = ridge.predict(X_test_poly)\n",
    "\n",
    "# Model Evaluation\n",
    "print('RMSE:', np.sqrt(mean_squared_error(y_test, y_pred)))\n",
    "print('R2:', r2_score(y_test, y_pred))"
   ]
  },
  {
   "cell_type": "code",
   "execution_count": 50,
   "metadata": {},
   "outputs": [
    {
     "name": "stdout",
     "output_type": "stream",
     "text": [
      "RMSE: 5.970836496468442\n",
      "R2: 0.6829404631431648\n"
     ]
    }
   ],
   "source": [
    "# Ridge Regression\n",
    "from sklearn.linear_model import Lasso\n",
    "\n",
    "lasso = Lasso(alpha= 1)\n",
    "lasso.fit(X_train_preprocessed, y_train)\n",
    "\n",
    "# Predictions\n",
    "y_pred = lasso.predict(X_test_preprocessed)\n",
    "\n",
    "# Model Evaluation\n",
    "print('RMSE:', np.sqrt(mean_squared_error(y_test, y_pred)))\n",
    "print('R2:', r2_score(y_test, y_pred))"
   ]
  },
  {
   "cell_type": "code",
   "execution_count": 51,
   "metadata": {},
   "outputs": [
    {
     "name": "stdout",
     "output_type": "stream",
     "text": [
      "alpha: 0.01\n",
      "RMSE: 5.355398250518447\n",
      "R2: 0.7449331562582437\n",
      "-----------------------------\n",
      "alpha: 0.1\n",
      "RMSE: 5.355417254858743\n",
      "R2: 0.7449313459780476\n",
      "-----------------------------\n",
      "alpha: 1\n",
      "RMSE: 5.3556022607308345\n",
      "R2: 0.7449137226961917\n",
      "-----------------------------\n",
      "alpha: 10\n",
      "RMSE: 5.3573056832089\n",
      "R2: 0.744751429538518\n",
      "-----------------------------\n",
      "alpha: 100\n",
      "RMSE: 5.375441921461931\n",
      "R2: 0.7430203038849352\n",
      "-----------------------------\n"
     ]
    }
   ],
   "source": [
    "for alpha in [0.01, 0.1, 1, 10, 100]:\n",
    "    ridge = Ridge(alpha=alpha)\n",
    "    ridge.fit(X_train_preprocessed, y_train)\n",
    "    y_pred = ridge.predict(X_test_preprocessed)\n",
    "    print('alpha:', alpha)\n",
    "    print('RMSE:', np.sqrt(mean_squared_error(y_test, y_pred)))\n",
    "    print('R2:', r2_score(y_test, y_pred))\n",
    "    print('-----------------------------')"
   ]
  },
  {
   "cell_type": "code",
   "execution_count": 52,
   "metadata": {},
   "outputs": [
    {
     "name": "stdout",
     "output_type": "stream",
     "text": [
      "RMSE: 3.28432146456972\n",
      "R2: 0.9040683795205222\n",
      "R2: 0.9040683795205222\n"
     ]
    }
   ],
   "source": [
    "#polynomial regression\n",
    "from sklearn.preprocessing import PolynomialFeatures\n",
    "from sklearn.pipeline import make_pipeline\n",
    "\n",
    "poly = make_pipeline(PolynomialFeatures(2), Ridge(alpha=100))\n",
    "poly.fit(X_train_preprocessed, y_train)\n",
    "\n",
    "# Predictions\n",
    "y_pred = poly.predict(X_test_preprocessed)\n",
    "\n",
    "# Model Evaluation\n",
    "print('RMSE:', np.sqrt(mean_squared_error(y_test, y_pred)))\n",
    "print('R2:', r2_score(y_test, y_pred))\n",
    "print('R2:', poly.score(X_test_preprocessed, y_test))\n"
   ]
  },
  {
   "cell_type": "code",
   "execution_count": 53,
   "metadata": {},
   "outputs": [
    {
     "name": "stdout",
     "output_type": "stream",
     "text": [
      "degree: 2\n",
      "RMSE: 3.28432146456972\n",
      "R2: 0.9040683795205222\n",
      "-----------------------------\n"
     ]
    },
    {
     "name": "stdout",
     "output_type": "stream",
     "text": [
      "degree: 3\n",
      "RMSE: 3.1939918501580005\n",
      "R2: 0.909272682451959\n",
      "-----------------------------\n",
      "degree: 4\n",
      "RMSE: 4.615335510953944\n",
      "R2: 0.8105576736064832\n",
      "-----------------------------\n"
     ]
    }
   ],
   "source": [
    "for degree in [2, 3, 4]:\n",
    "    poly = make_pipeline(PolynomialFeatures(degree), Ridge(alpha=100))\n",
    "    poly.fit(X_train_preprocessed, y_train)\n",
    "    y_pred = poly.predict(X_test_preprocessed)\n",
    "    print('degree:', degree)\n",
    "    print('RMSE:', np.sqrt(mean_squared_error(y_test, y_pred)))\n",
    "    print('R2:', r2_score(y_test, y_pred))\n",
    "    print('-----------------------------')"
   ]
  },
  {
   "cell_type": "code",
   "execution_count": 54,
   "metadata": {},
   "outputs": [],
   "source": [
    "# Log Transform for the target\n",
    "def log_transform(x):\n",
    "    return np.log1p(x)\n",
    "\n",
    "# Log Transform\n",
    "y_train_log = log_transform(y_train)\n",
    "y_test_log = log_transform(y_test)"
   ]
  },
  {
   "cell_type": "code",
   "execution_count": 55,
   "metadata": {},
   "outputs": [
    {
     "data": {
      "image/png": "[encoded data removed]",
      "text/plain": [
       "<Figure size 2000x500 with 2 Axes>"
      ]
     },
     "metadata": {},
     "output_type": "display_data"
    }
   ],
   "source": [
    "fig, axes = plt.subplots(1, 2, figsize=(20, 5))\n",
    "sns.histplot(ax=axes[0], data=y_train, kde=True)\n",
    "sns.histplot(ax=axes[1], data=y_train_log, kde=True)\n",
    "axes[0].set_title('Original Target')\n",
    "axes[1].set_title('Log Transformed Target')\n",
    "plt.show()"
   ]
  },
  {
   "cell_type": "code",
   "execution_count": 56,
   "metadata": {},
   "outputs": [
    {
     "name": "stdout",
     "output_type": "stream",
     "text": [
      "Training Accuracy: 0.8825585195445939\n",
      "Testing Accuracy: 0.8969723234581259\n",
      "Training RMSE: 0.25420770907463824\n",
      "Testing RMSE: 0.23601444862974727\n"
     ]
    }
   ],
   "source": [
    "# Linear Regression\n",
    "lr = LinearRegression()\n",
    "lr.fit(X_train_preprocessed, y_train_log)\n",
    "\n",
    "# Predictions\n",
    "y_pred = lr.predict(X_test_preprocessed)\n",
    "\n",
    "# Model Evaluation\n",
    "print('Training Accuracy:', lr.score(X_train_preprocessed, y_train_log))\n",
    "print('Testing Accuracy:', lr.score(X_test_preprocessed, y_test_log))\n",
    "print('Training RMSE:', np.sqrt(mean_squared_error(y_train_log, lr.predict(X_train_preprocessed))))\n",
    "print('Testing RMSE:', np.sqrt(mean_squared_error(y_test_log, y_pred)))"
   ]
  },
  {
   "cell_type": "markdown",
   "metadata": {},
   "source": [
    "`Log Transformation of the target variable affects the model performance positively`"
   ]
  },
  {
   "cell_type": "code",
   "execution_count": 57,
   "metadata": {},
   "outputs": [
    {
     "name": "stdout",
     "output_type": "stream",
     "text": [
      "Training Accuracy: 0.9471297657876172\n",
      "Testing Accuracy: 0.945106070452392\n",
      "Training RMSE: 0.170562508752496\n",
      "Testing RMSE: 12.38854119049753\n"
     ]
    }
   ],
   "source": [
    "poly_ridge = make_pipeline(PolynomialFeatures(2), Ridge(alpha=100))\n",
    "poly_ridge.fit(X_train_preprocessed, y_train_log)\n",
    "\n",
    "# Predictions\n",
    "y_pred = poly.predict(X_test_preprocessed)\n",
    "\n",
    "# Model Evaluation\n",
    "print('Training Accuracy:', poly_ridge.score(X_train_preprocessed, y_train_log))\n",
    "print('Testing Accuracy:', poly_ridge.score(X_test_preprocessed, y_test_log))\n",
    "print('Training RMSE:', np.sqrt(mean_squared_error(y_train_log, poly_ridge.predict(X_train_preprocessed))))\n",
    "print('Testing RMSE:', np.sqrt(mean_squared_error(y_test_log, y_pred)))"
   ]
  },
  {
   "cell_type": "markdown",
   "metadata": {},
   "source": [
    "`This is the best model we got. `"
   ]
  },
  {
   "cell_type": "code",
   "execution_count": 58,
   "metadata": {},
   "outputs": [
    {
     "name": "stdout",
     "output_type": "stream",
     "text": [
      "Training Accuracy: 0.7820947690345927\n",
      "Testing Accuracy: 0.7901716373888057\n",
      "Training RMSE: 0.34626754359688305\n",
      "Testing RMSE: 0.3368167910413041\n"
     ]
    }
   ],
   "source": [
    "# Try Gradient Descent\n",
    "\n",
    "from sklearn.linear_model import SGDRegressor\n",
    "\n",
    "sgd = SGDRegressor(random_state=0, max_iter=10000, tol=1e-3, penalty='l2', alpha=10, eta0=0.01)\n",
    "poly_sgd = make_pipeline(PolynomialFeatures(2), sgd)\n",
    "\n",
    "poly_sgd.fit(X_train_preprocessed, y_train_log.ravel())\n",
    "\n",
    "# Predictions\n",
    "y_pred = poly_sgd.predict(X_test_preprocessed)\n",
    "\n",
    "# Model Evaluation\n",
    "print('Training Accuracy:', poly_sgd.score(X_train_preprocessed, y_train_log))\n",
    "print('Testing Accuracy:', poly_sgd.score(X_test_preprocessed, y_test_log))\n",
    "print('Training RMSE:', np.sqrt(mean_squared_error(y_train_log, poly_sgd.predict(X_train_preprocessed))))\n",
    "print('Testing RMSE:', np.sqrt(mean_squared_error(y_test_log, y_pred)))"
   ]
  },
  {
   "cell_type": "code",
   "execution_count": 59,
   "metadata": {},
   "outputs": [
    {
     "name": "stdout",
     "output_type": "stream",
     "text": [
      "Intercept: 2.0134722770378852\n",
      "Coefficients: [ 0.00000000e+00 -3.66861177e-02 -6.30039730e-03  6.43735582e-02\n",
      "  9.40965086e-02  1.05224096e-02  9.36386212e-02 -1.44903379e-02\n",
      " -6.47769091e-03  1.72952609e-03  5.56348296e-03 -6.63057872e-03\n",
      " -3.03232503e-02  3.33196314e-02  2.65773251e-02 -2.65773251e-02\n",
      " -1.49993770e-03 -1.27204458e-03  3.72924289e-03 -2.70996355e-02\n",
      " -2.53000010e-02 -9.24936526e-03  1.22529491e-02  2.88266918e-03\n",
      " -2.53315355e-03  2.69919118e-03  9.09111807e-04  1.39282441e-03\n",
      "  3.48495596e-03  2.35018079e-02  9.03468663e-03 -7.87740535e-03\n",
      "  6.88636033e-03 -1.40432820e-02  9.66969187e-03  8.10607888e-03\n",
      " -1.71631584e-03  6.43091494e-04 -6.20893582e-03 -5.86760616e-03\n",
      " -7.36112643e-04 -7.11078078e-03 -1.31469451e-02 -4.01175180e-02\n",
      "  3.43140033e-03 -2.01051117e-02  5.16553889e-03 -1.52480585e-03\n",
      " -2.05566792e-02  2.82322068e-02  2.81617235e-03 -3.56485645e-03\n",
      " -1.60644379e-02  6.91827628e-03 -8.75882709e-04  2.05503517e-03\n",
      "  1.84203676e-02 -4.73784805e-03 -4.33083435e-03 -4.30581963e-03\n",
      "  1.69043103e-02  5.68676874e-03  1.02224118e-02 -3.38162097e-02\n",
      " -1.82849115e-03 -1.19401767e-02 -5.23698532e-03 -6.57579844e-03\n",
      "  1.26325173e-02 -1.03946534e-02  9.75054658e-04 -1.49844945e-02\n",
      "  8.68409723e-03 -2.13880600e-02 -1.80687067e-02 -6.35172399e-02\n",
      "  4.72758847e-02  1.15846636e-02  1.01455718e-02  1.68061159e-02\n",
      "  1.47440184e-02  1.02919620e-02  5.50373122e-03 -2.52388253e-02\n",
      " -5.47283729e-03  1.51462266e-02  8.20600775e-04  4.59754253e-02\n",
      " -7.76709683e-02 -1.51914289e-02 -1.45617708e-02 -7.66377977e-04\n",
      " -1.73078705e-02 -1.50127748e-02  7.34310305e-03  6.51449578e-03\n",
      "  3.36908643e-02  2.19748052e-02  3.09074498e-02  3.34661084e-02\n",
      "  5.65419026e-02 -3.61713066e-03 -2.44237509e-02 -5.14462574e-04\n",
      "  4.73562356e-03  3.02648137e-02  6.22907967e-03  1.06607290e-02\n",
      " -3.99588452e-02  4.68346243e-03 -3.96656718e-02  9.61909103e-03\n",
      "  7.17124904e-03 -8.94788638e-03  6.20978483e-04  2.01265216e-02\n",
      "  2.60431323e-02 -7.72029432e-03  6.98301847e-03 -1.05127298e-02\n",
      "  2.66960567e-02  6.32140420e-03  3.69875186e-02  4.79613153e-02\n",
      "  8.12357715e-02  1.28607370e-02  1.80678689e-02  2.25347875e-02\n",
      "  9.06441613e-02  3.15989559e-02  3.37122377e-02 -1.12798776e-02\n",
      "  6.00070341e-03  2.58101708e-02  3.94018538e-02 -2.11032832e-02\n",
      "  8.29360019e-03 -2.70849192e-02  5.36917805e-03  3.21726050e-02\n",
      "  7.92047528e-03 -3.72565728e-03  2.83018257e-03  9.57756252e-03\n",
      "  7.94391613e-03  5.18855099e-03  2.23968570e-03  2.72396152e-02\n",
      " -6.01942488e-03 -3.43514987e-02  4.48739083e-02 -1.14425202e-02\n",
      "  3.41736498e-03  2.89135067e-04 -7.08842815e-02  2.88776591e-02\n",
      " -1.74133786e-03  2.70441355e-02 -5.51882985e-03 -1.17452818e-02\n",
      " -4.37027210e-03  6.02707237e-03  2.02831118e-02 -6.34451207e-02\n",
      " -5.72544543e-03 -1.52444128e-03  9.63205096e-03  3.13224586e-02\n",
      "  2.59464258e-02 -1.76763376e-04  2.42949650e-03  1.43208363e-02\n",
      "  6.02593553e-02  4.61358865e-02  4.75027347e-02 -4.37120300e-03\n",
      "  1.32648978e-02  3.17060314e-02 -7.58990624e-03  1.84575733e-02\n",
      " -2.10407757e-02 -3.10194006e-03 -3.31412224e-03  1.52628728e-02\n",
      " -1.90330476e-02  1.08804421e-03  3.80334823e-02 -8.29274675e-03\n",
      "  1.26215806e-02 -1.44903379e-02  0.00000000e+00  5.35286299e-02\n",
      "  6.48347188e-02 -1.95004749e-03 -1.60093484e-02  6.31287073e-05\n",
      " -1.06018962e-02 -3.88844169e-03 -2.78571253e-02 -1.60756405e-02\n",
      "  6.28006528e-04 -3.90647619e-03 -3.00051061e-03 -2.81823073e-02\n",
      "  1.04438252e-02  1.98658558e-03  1.02454602e-02 -1.29282292e-03\n",
      " -1.49310970e-02 -1.50471257e-02 -6.19719648e-03 -2.44352648e-02\n",
      " -6.47769091e-03 -5.68773922e-02  3.80827268e-02 -1.90755735e-03\n",
      " -6.78922380e-03  7.66034999e-03  1.65707451e-02 -2.30484360e-02\n",
      " -9.33533394e-03  1.05002311e-02 -8.70909351e-03 -1.99359707e-02\n",
      " -2.16086054e-02 -2.77695795e-03 -4.84832291e-03 -2.45666901e-03\n",
      " -2.19726261e-03 -4.30831643e-03 -2.27525122e-03  1.27900270e-02\n",
      " -2.19286657e-03 -1.54224575e-02  1.72952609e-03 -1.03134766e-01\n",
      " -2.76858994e-04  4.05843911e-03 -1.01010677e-02  5.92622084e-03\n",
      " -4.19669475e-03  1.31043674e-02 -4.84241140e-03  5.16371058e-03\n",
      " -8.10209174e-03 -4.01496604e-03 -1.04993013e-02  6.85434220e-03\n",
      "  8.66425259e-03  5.49902679e-03 -1.42239316e-03 -6.59336707e-03\n",
      " -1.92568256e-02  9.90402815e-05 -8.85862920e-03  5.56348296e-03\n",
      " -2.77297387e-03 -7.90259890e-03  1.16427008e-02  5.10468131e-03\n",
      "  4.58801647e-04  4.66363598e-03  1.20659984e-02  3.60637462e-03\n",
      " -7.01093940e-04  1.79301328e-02  6.71572678e-03 -1.57281962e-03\n",
      " -9.82804333e-04  4.14748148e-03 -1.72612182e-02  2.33688161e-04\n",
      "  1.29586673e-03  7.22873925e-03 -9.46961472e-03 -6.63057872e-03\n",
      "  0.00000000e+00  0.00000000e+00  0.00000000e+00 -6.63057872e-03\n",
      "  0.00000000e+00  0.00000000e+00 -6.55487409e-03 -7.57046304e-05\n",
      " -6.63057872e-03 -3.82128229e-03 -1.20472014e-03 -1.20472014e-03\n",
      " -1.52887166e-03  0.00000000e+00 -2.80929643e-03 -1.52887166e-03\n",
      " -2.73359180e-03 -1.64553071e-02 -3.03232503e-02 -3.63419770e-03\n",
      " -3.76857329e-02  7.36248255e-03 -1.43175782e-02 -3.73412935e-03\n",
      " -1.42867706e-02 -1.11576601e-02  9.05360738e-03 -2.88907325e-02\n",
      "  1.70252009e-02 -3.53270585e-03  2.38445862e-02  3.24098940e-02\n",
      " -4.17228284e-02 -1.23119630e-02  9.32799304e-03 -1.86333665e-03\n",
      "  3.33196314e-02  6.42630580e-02 -3.09434266e-02  1.28176405e-02\n",
      "  1.15057696e-03  2.53856647e-02 -1.58419219e-02 -3.00457195e-02\n",
      "  2.44659127e-02  1.48013501e-03  4.14958671e-04 -2.45557187e-02\n",
      " -3.33951190e-02  4.51524348e-02  1.49552731e-02 -1.09165529e-02\n",
      "  2.59480299e-02  2.65773251e-02  0.00000000e+00  1.40009890e-02\n",
      "  2.80625225e-02  3.75485420e-02  3.70483989e-03 -3.27516104e-02\n",
      "  1.77779660e-02  2.22349491e-02 -2.41982295e-03  1.52316621e-02\n",
      " -2.27292833e-02 -1.91167579e-03 -3.09846139e-02  3.48022245e-02\n",
      "  1.06487466e-02 -2.65773251e-02 -1.55009267e-02 -2.93345671e-02\n",
      " -3.38192991e-02 -3.08044754e-02  7.45160944e-03 -2.70273313e-02\n",
      " -9.98199994e-03  5.30249213e-03 -1.77648156e-02  2.54284744e-02\n",
      "  2.82078760e-03  3.23774383e-02 -3.13172685e-02  1.28530613e-02\n",
      " -1.49993770e-03  1.28077481e-02  3.19722747e-02 -8.19299293e-03\n",
      " -3.66384336e-02  4.70852898e-03 -6.33467252e-03  6.77229308e-03\n",
      " -2.74199808e-02 -2.06757124e-02 -1.43273659e-02  1.74897721e-04\n",
      "  1.59369245e-02 -1.67713250e-02 -1.27204458e-03 -4.36942942e-02\n",
      " -6.10689414e-02  5.17943615e-02  1.91275091e-02 -1.74182723e-02\n",
      "  4.32137786e-03 -4.33699115e-02  5.75153516e-04 -2.05107461e-03\n",
      "  4.69053916e-02  1.43799571e-02 -7.89195368e-03  3.72924289e-03\n",
      " -2.41913786e-02  5.91765039e-02 -2.28016349e-03  2.35988058e-02\n",
      " -3.40324321e-02  2.31272817e-02  1.15902296e-03  3.14148970e-03\n",
      "  2.88283969e-02 -4.62065745e-02  4.55924269e-03 -2.70996355e-02\n",
      "  9.88243671e-02  1.06257409e-02 -4.25126388e-02  4.91287506e-02\n",
      "  2.46805099e-02 -1.26938079e-03 -2.34492495e-02  2.85608661e-02\n",
      " -4.23349128e-02 -1.15232366e-02 -2.53000010e-02 -9.36929019e-03\n",
      "  1.86718347e-03 -5.42302969e-03 -3.61515607e-02  1.85059296e-02\n",
      "  5.77445625e-02 -3.56381792e-02  5.97159213e-03 -3.81758035e-02\n",
      " -9.24936526e-03  2.89555840e-04  1.04458131e-02  1.98479603e-02\n",
      "  1.70330899e-02  9.68852103e-03 -1.82042207e-02  9.78663322e-03\n",
      " -1.77155340e-03  1.22529491e-02 -2.13055473e-02 -3.02652011e-02\n",
      " -1.55359084e-02 -2.41126018e-02  1.35623285e-02 -1.35004900e-02\n",
      " -1.13889870e-03  2.88266918e-03  5.44910373e-02 -2.34136535e-02\n",
      " -2.43208042e-02 -5.58267305e-02 -8.91467767e-03  1.55949432e-02\n",
      " -2.53315355e-03 -2.60595334e-02 -2.50347112e-02  6.60019309e-02\n",
      " -6.89790902e-03 -5.07778435e-03  2.69919118e-03  5.25934500e-02\n",
      "  2.89585503e-02  2.86982436e-03 -2.07464051e-02  9.09111807e-04\n",
      "  1.53437729e-02 -2.53546912e-02 -2.21399539e-04  1.39282441e-03\n",
      "  1.69012074e-02 -2.38029640e-03  3.48495596e-03  7.32135790e-03\n",
      "  1.34582033e-02]\n"
     ]
    }
   ],
   "source": [
    "# Access the coefficients in the pipeline\n",
    "print('Intercept:', poly_ridge.named_steps['ridge'].intercept_)\n",
    "print('Coefficients:', poly_ridge.named_steps['ridge'].coef_)"
   ]
  },
  {
   "cell_type": "code",
   "execution_count": 60,
   "metadata": {},
   "outputs": [
    {
     "data": {
      "text/plain": [
       "['Location_0',\n",
       " 'Location_1',\n",
       " 'Location_2',\n",
       " 'Location_3',\n",
       " 'Fuel_Type_0',\n",
       " 'Fuel_Type_1',\n",
       " 'Fuel_Type_2',\n",
       " 'Transmission_0',\n",
       " 'Transmission_1',\n",
       " 'Brand_0',\n",
       " 'Brand_1',\n",
       " 'Brand_2',\n",
       " 'Brand_3',\n",
       " 'Brand_4',\n",
       " 'Model_0',\n",
       " 'Model_1',\n",
       " 'Model_2',\n",
       " 'Model_3',\n",
       " 'Model_4',\n",
       " 'Model_5',\n",
       " 'Model_6',\n",
       " 'Model_7']"
      ]
     },
     "execution_count": 60,
     "metadata": {},
     "output_type": "execute_result"
    }
   ],
   "source": [
    "# Access the features names in the pipeline\n",
    "preprocessor.transformers_[1][1].named_steps['binary'].get_feature_names()"
   ]
  },
  {
   "attachments": {},
   "cell_type": "markdown",
   "metadata": {},
   "source": [
    "# Saving "
   ]
  },
  {
   "cell_type": "code",
   "execution_count": 61,
   "metadata": {},
   "outputs": [],
   "source": [
    "# Preprocessor Saving\n",
    "import pickle\n",
    "pickle.dump(preprocessor, open('preprocessor.pkl', 'wb'))\n",
    "\n",
    "# Model Saving\n",
    "pickle.dump(poly_ridge, open('model.pkl', 'wb'))"
   ]
  },
  {
   "cell_type": "code",
   "execution_count": 62,
   "metadata": {},
   "outputs": [],
   "source": [
    "# Inferencing\n",
    "\n",
    "# Load Preprocessor\n",
    "preprocessor = pickle.load(open('preprocessor.pkl', 'rb'))\n",
    "model = pickle.load(open('model.pkl', 'rb'))"
   ]
  },
  {
   "cell_type": "code",
   "execution_count": 63,
   "metadata": {},
   "outputs": [
    {
     "data": {
      "text/html": [
       "<div>\n",
       "<style scoped>\n",
       "    .dataframe tbody tr th:only-of-type {\n",
       "        vertical-align: middle;\n",
       "    }\n",
       "\n",
       "    .dataframe tbody tr th {\n",
       "        vertical-align: top;\n",
       "    }\n",
       "\n",
       "    .dataframe thead th {\n",
       "        text-align: right;\n",
       "    }\n",
       "</style>\n",
       "<table border=\"1\" class=\"dataframe\">\n",
       "  <thead>\n",
       "    <tr style=\"text-align: right;\">\n",
       "      <th></th>\n",
       "      <th>Location</th>\n",
       "      <th>Year</th>\n",
       "      <th>Kilometers_Driven</th>\n",
       "      <th>Fuel_Type</th>\n",
       "      <th>Transmission</th>\n",
       "      <th>Owner_Type</th>\n",
       "      <th>Mileage</th>\n",
       "      <th>Engine</th>\n",
       "      <th>Power</th>\n",
       "      <th>Seats</th>\n",
       "      <th>Brand</th>\n",
       "      <th>Model</th>\n",
       "    </tr>\n",
       "  </thead>\n",
       "  <tbody>\n",
       "    <tr>\n",
       "      <th>3304</th>\n",
       "      <td>Hyderabad</td>\n",
       "      <td>2010</td>\n",
       "      <td>120000</td>\n",
       "      <td>Diesel</td>\n",
       "      <td>Manual</td>\n",
       "      <td>Second</td>\n",
       "      <td>26.08</td>\n",
       "      <td>1493</td>\n",
       "      <td>110.00</td>\n",
       "      <td>5.00</td>\n",
       "      <td>Hyundai</td>\n",
       "      <td>Verna</td>\n",
       "    </tr>\n",
       "  </tbody>\n",
       "</table>\n",
       "</div>"
      ],
      "text/plain": [
       "       Location  Year  Kilometers_Driven Fuel_Type Transmission Owner_Type  \\\n",
       "3304  Hyderabad  2010             120000    Diesel       Manual     Second   \n",
       "\n",
       "      Mileage  Engine  Power  Seats    Brand  Model  \n",
       "3304    26.08    1493 110.00   5.00  Hyundai  Verna  "
      ]
     },
     "execution_count": 63,
     "metadata": {},
     "output_type": "execute_result"
    }
   ],
   "source": [
    "# Preprocessing\n",
    "new_data = X_test.sample(1)\n",
    "new_data"
   ]
  },
  {
   "cell_type": "code",
   "execution_count": 64,
   "metadata": {},
   "outputs": [
    {
     "data": {
      "text/plain": [
       "3304   3.50\n",
       "Name: Price, dtype: float64"
      ]
     },
     "execution_count": 64,
     "metadata": {},
     "output_type": "execute_result"
    }
   ],
   "source": [
    "y_test[new_data.index]"
   ]
  },
  {
   "cell_type": "code",
   "execution_count": 65,
   "metadata": {},
   "outputs": [
    {
     "data": {
      "text/plain": [
       "3304   32.12\n",
       "Name: Price, dtype: float64"
      ]
     },
     "execution_count": 65,
     "metadata": {},
     "output_type": "execute_result"
    }
   ],
   "source": [
    "np.expm1(y_test[new_data.index])\n"
   ]
  },
  {
   "cell_type": "code",
   "execution_count": 66,
   "metadata": {},
   "outputs": [
    {
     "name": "stdout",
     "output_type": "stream",
     "text": [
      "Price: 4.154626870246668\n"
     ]
    }
   ],
   "source": [
    "# Preprocessing & Prediction\n",
    "new_data_preprocessed = preprocessor.transform(new_data)\n",
    "log_price = model.predict(new_data_preprocessed) # in log scale\n",
    "price = np.expm1(log_price) # in original scale\n",
    "\n",
    "print('Price:', price[0])"
   ]
  },
  {
   "cell_type": "code",
   "execution_count": 1,
   "metadata": {},
   "outputs": [
    {
     "name": "stdout",
     "output_type": "stream",
     "text": [
      "{'result': 'success', 'documentation': 'https://www.exchangerate-api.com/docs', 'terms_of_use': 'https://www.exchangerate-api.com/terms', 'time_last_update_unix': 1697673602, 'time_last_update_utc': 'Thu, 19 Oct 2023 00:00:02 +0000', 'time_next_update_unix': 1697760002, 'time_next_update_utc': 'Fri, 20 Oct 2023 00:00:02 +0000', 'base_code': 'USD', 'conversion_rates': {'USD': 1, 'AED': 3.6725, 'AFN': 75.1418, 'ALL': 99.9942, 'AMD': 401.6323, 'ANG': 1.79, 'AOA': 837.0971, 'ARS': 350.03, 'AUD': 1.5766, 'AWG': 1.79, 'AZN': 1.7016, 'BAM': 1.8554, 'BBD': 2.0, 'BDT': 110.2533, 'BGN': 1.855, 'BHD': 0.376, 'BIF': 2830.757, 'BMD': 1.0, 'BND': 1.3717, 'BOB': 6.9191, 'BRL': 5.0419, 'BSD': 1.0, 'BTN': 83.2995, 'BWP': 13.6727, 'BYN': 3.2939, 'BZD': 2.0, 'CAD': 1.3686, 'CDF': 2480.872, 'CHF': 0.8989, 'CLP': 936.8377, 'CNY': 7.3201, 'COP': 4207.4332, 'CRC': 531.3748, 'CUP': 24.0, 'CVE': 104.6031, 'CZK': 23.3964, 'DJF': 177.721, 'DKK': 7.0784, 'DOP': 56.7163, 'DZD': 137.5749, 'EGP': 30.9155, 'ERN': 15.0, 'ETB': 55.7679, 'EUR': 0.9482, 'FJD': 2.2755, 'FKP': 0.8225, 'FOK': 7.0773, 'GBP': 0.8227, 'GEL': 2.6916, 'GGP': 0.8225, 'GHS': 11.8522, 'GIP': 0.8225, 'GMD': 65.7695, 'GNF': 8574.3875, 'GTQ': 7.8391, 'GYD': 209.3478, 'HKD': 7.8287, 'HNL': 24.6668, 'HRK': 7.1476, 'HTG': 133.867, 'HUF': 363.9731, 'IDR': 15762.6074, 'ILS': 4.0269, 'IMP': 0.8225, 'INR': 83.3041, 'IQD': 1308.5293, 'IRR': 41953.4237, 'ISK': 138.4678, 'JEP': 0.8225, 'JMD': 155.6815, 'JOD': 0.709, 'JPY': 149.7935, 'KES': 149.6906, 'KGS': 89.0137, 'KHR': 4120.3826, 'KID': 1.5763, 'KMF': 466.706, 'KRW': 1353.2439, 'KWD': 0.3093, 'KYD': 0.8333, 'KZT': 478.3997, 'LAK': 20608.1124, 'LBP': 15000.0, 'LKR': 324.3175, 'LRD': 190.0919, 'LSL': 18.9636, 'LYD': 4.8915, 'MAD': 10.2638, 'MDL': 18.1825, 'MGA': 4530.2416, 'MKD': 58.1772, 'MMK': 2098.6893, 'MNT': 3472.2333, 'MOP': 8.0637, 'MRU': 38.4072, 'MUR': 44.2664, 'MVR': 15.4438, 'MWK': 1163.687, 'MXN': 18.2415, 'MYR': 4.7437, 'MZN': 63.8612, 'NAD': 18.9636, 'NGN': 765.6396, 'NIO': 36.5707, 'NOK': 11.0382, 'NPR': 133.2791, 'NZD': 1.7055, 'OMR': 0.3845, 'PAB': 1.0, 'PEN': 3.8447, 'PGK': 3.7137, 'PHP': 56.7873, 'PKR': 279.2741, 'PLN': 4.2149, 'PYG': 7399.5904, 'QAR': 3.64, 'RON': 4.7082, 'RSD': 110.7941, 'RUB': 97.645, 'RWF': 1239.6348, 'SAR': 3.75, 'SBD': 8.5067, 'SCR': 13.0698, 'SDG': 579.5465, 'SEK': 11.0122, 'SGD': 1.3717, 'SHP': 0.8225, 'SLE': 22.4625, 'SLL': 22462.4672, 'SOS': 571.2333, 'SRD': 38.1672, 'SSP': 1024.3376, 'STN': 23.242, 'SYP': 12968.3541, 'SZL': 18.9636, 'THB': 36.3437, 'TJS': 10.9368, 'TMT': 3.495, 'TND': 3.1742, 'TOP': 2.3776, 'TRY': 28.0435, 'TTD': 6.77, 'TVD': 1.5763, 'TWD': 32.379, 'TZS': 2508.6578, 'UAH': 36.5638, 'UGX': 3757.8444, 'UYU': 39.9233, 'UZS': 12183.3473, 'VES': 34.8602, 'VND': 24539.7677, 'VUV': 122.9029, 'WST': 2.7811, 'XAF': 622.2747, 'XCD': 2.7, 'XDR': 0.7621, 'XOF': 622.2747, 'XPF': 113.2045, 'YER': 250.1631, 'ZAR': 18.9647, 'ZMW': 21.5787, 'ZWL': 5796.5634}}\n"
     ]
    }
   ],
   "source": [
    "import requests\n",
    "\n",
    "# Where USD is the base currency you want to use\n",
    "url = 'https://v6.exchangerate-api.com/v6/f9914a6c7128b4adf0623796/latest/USD'\n",
    "\n",
    "# Making our request\n",
    "response = requests.get(url)\n",
    "data = response.json()\n",
    "\n",
    "# Your JSON object\n",
    "print (data)"
   ]
  },
  {
   "cell_type": "code",
   "execution_count": 6,
   "metadata": {},
   "outputs": [
    {
     "data": {
      "text/plain": [
       "1200.4211077245898"
      ]
     },
     "execution_count": 6,
     "metadata": {},
     "output_type": "execute_result"
    }
   ],
   "source": [
    "usd_to_inr= data['conversion_rates']['INR']\n",
    "inr_to_usd = 1/usd_to_inr\n",
    "lakh_to_usd = inr_to_usd * 100000\n",
    "lakh_to_usd"
   ]
  },
  {
   "cell_type": "code",
   "execution_count": 67,
   "metadata": {},
   "outputs": [
    {
     "data": {
      "text/plain": [
       "{'provider': 'https://www.exchangerate-api.com',\n",
       " 'WARNING_UPGRADE_TO_V6': 'https://www.exchangerate-api.com/docs/free',\n",
       " 'terms': 'https://www.exchangerate-api.com/terms',\n",
       " 'base': 'INR',\n",
       " 'date': '2023-10-01',\n",
       " 'time_last_updated': 1696118402,\n",
       " 'rates': {'INR': 1,\n",
       "  'AED': 0.0442,\n",
       "  'AFN': 0.941,\n",
       "  'ALL': 1.21,\n",
       "  'AMD': 4.75,\n",
       "  'ANG': 0.0215,\n",
       "  'AOA': 10.04,\n",
       "  'ARS': 4.21,\n",
       "  'AUD': 0.0186,\n",
       "  'AWG': 0.0215,\n",
       "  'AZN': 0.0205,\n",
       "  'BAM': 0.0222,\n",
       "  'BBD': 0.0241,\n",
       "  'BDT': 1.32,\n",
       "  'BGN': 0.0222,\n",
       "  'BHD': 0.00452,\n",
       "  'BIF': 34.06,\n",
       "  'BMD': 0.012,\n",
       "  'BND': 0.0164,\n",
       "  'BOB': 0.0833,\n",
       "  'BRL': 0.0605,\n",
       "  'BSD': 0.012,\n",
       "  'BTN': 1,\n",
       "  'BWP': 0.165,\n",
       "  'BYN': 0.0346,\n",
       "  'BZD': 0.0241,\n",
       "  'CAD': 0.0162,\n",
       "  'CDF': 29.94,\n",
       "  'CHF': 0.011,\n",
       "  'CLP': 10.9,\n",
       "  'CNY': 0.0878,\n",
       "  'COP': 49.16,\n",
       "  'CRC': 6.44,\n",
       "  'CUP': 0.289,\n",
       "  'CVE': 1.25,\n",
       "  'CZK': 0.277,\n",
       "  'DJF': 2.14,\n",
       "  'DKK': 0.0848,\n",
       "  'DOP': 0.683,\n",
       "  'DZD': 1.65,\n",
       "  'EGP': 0.371,\n",
       "  'ERN': 0.18,\n",
       "  'ETB': 0.665,\n",
       "  'EUR': 0.0114,\n",
       "  'FJD': 0.0276,\n",
       "  'FKP': 0.00984,\n",
       "  'FOK': 0.0848,\n",
       "  'GBP': 0.00985,\n",
       "  'GEL': 0.0322,\n",
       "  'GGP': 0.00984,\n",
       "  'GHS': 0.142,\n",
       "  'GIP': 0.00984,\n",
       "  'GMD': 0.786,\n",
       "  'GNF': 103.14,\n",
       "  'GTQ': 0.0946,\n",
       "  'GYD': 2.51,\n",
       "  'HKD': 0.0943,\n",
       "  'HNL': 0.297,\n",
       "  'HRK': 0.0856,\n",
       "  'HTG': 1.63,\n",
       "  'HUF': 4.43,\n",
       "  'IDR': 186.03,\n",
       "  'ILS': 0.0459,\n",
       "  'IMP': 0.00984,\n",
       "  'IQD': 15.73,\n",
       "  'IRR': 506.76,\n",
       "  'ISK': 1.65,\n",
       "  'JEP': 0.00984,\n",
       "  'JMD': 1.86,\n",
       "  'JOD': 0.00853,\n",
       "  'JPY': 1.8,\n",
       "  'KES': 1.78,\n",
       "  'KGS': 1.06,\n",
       "  'KHR': 49.51,\n",
       "  'KID': 0.0186,\n",
       "  'KMF': 5.59,\n",
       "  'KRW': 16.22,\n",
       "  'KWD': 0.00372,\n",
       "  'KYD': 0.01,\n",
       "  'KZT': 5.76,\n",
       "  'LAK': 245.23,\n",
       "  'LBP': 180.47,\n",
       "  'LKR': 3.9,\n",
       "  'LRD': 2.27,\n",
       "  'LSL': 0.227,\n",
       "  'LYD': 0.0587,\n",
       "  'MAD': 0.124,\n",
       "  'MDL': 0.219,\n",
       "  'MGA': 54.6,\n",
       "  'MKD': 0.698,\n",
       "  'MMK': 30.53,\n",
       "  'MNT': 41.62,\n",
       "  'MOP': 0.0971,\n",
       "  'MRU': 0.46,\n",
       "  'MUR': 0.539,\n",
       "  'MVR': 0.186,\n",
       "  'MWK': 13.51,\n",
       "  'MXN': 0.21,\n",
       "  'MYR': 0.0565,\n",
       "  'MZN': 0.769,\n",
       "  'NAD': 0.227,\n",
       "  'NGN': 10.33,\n",
       "  'NIO': 0.441,\n",
       "  'NOK': 0.128,\n",
       "  'NPR': 1.6,\n",
       "  'NZD': 0.02,\n",
       "  'OMR': 0.00463,\n",
       "  'PAB': 0.012,\n",
       "  'PEN': 0.0456,\n",
       "  'PGK': 0.0438,\n",
       "  'PHP': 0.682,\n",
       "  'PKR': 3.44,\n",
       "  'PLN': 0.0526,\n",
       "  'PYG': 88.07,\n",
       "  'QAR': 0.0438,\n",
       "  'RON': 0.0565,\n",
       "  'RSD': 1.33,\n",
       "  'RUB': 1.17,\n",
       "  'RWF': 15.2,\n",
       "  'SAR': 0.0451,\n",
       "  'SBD': 0.102,\n",
       "  'SCR': 0.163,\n",
       "  'SDG': 5.37,\n",
       "  'SEK': 0.132,\n",
       "  'SGD': 0.0164,\n",
       "  'SHP': 0.00984,\n",
       "  'SLE': 0.248,\n",
       "  'SLL': 247.77,\n",
       "  'SOS': 6.86,\n",
       "  'SRD': 0.463,\n",
       "  'SSP': 12.22,\n",
       "  'STN': 0.278,\n",
       "  'SYP': 155.57,\n",
       "  'SZL': 0.227,\n",
       "  'THB': 0.44,\n",
       "  'TJS': 0.132,\n",
       "  'TMT': 0.0421,\n",
       "  'TND': 0.0381,\n",
       "  'TOP': 0.0285,\n",
       "  'TRY': 0.33,\n",
       "  'TTD': 0.0817,\n",
       "  'TVD': 0.0186,\n",
       "  'TWD': 0.387,\n",
       "  'TZS': 30.24,\n",
       "  'UAH': 0.445,\n",
       "  'UGX': 45.25,\n",
       "  'USD': 0.012,\n",
       "  'UYU': 0.461,\n",
       "  'UZS': 147.44,\n",
       "  'VES': 0.414,\n",
       "  'VND': 293.48,\n",
       "  'VUV': 1.46,\n",
       "  'WST': 0.0334,\n",
       "  'XAF': 7.46,\n",
       "  'XCD': 0.0325,\n",
       "  'XDR': 0.00914,\n",
       "  'XOF': 7.46,\n",
       "  'XPF': 1.36,\n",
       "  'YER': 3.01,\n",
       "  'ZAR': 0.228,\n",
       "  'ZMW': 0.253,\n",
       "  'ZWL': 65.05}}"
      ]
     },
     "execution_count": 67,
     "metadata": {},
     "output_type": "execute_result"
    }
   ],
   "source": [
    "# API for Currency Conversion\n",
    "import requests\n",
    "response = requests.get('https://api.exchangerate-api.com/v4/latest/INR')\n",
    "response.json()"
   ]
  },
  {
   "cell_type": "code",
   "execution_count": 68,
   "metadata": {},
   "outputs": [
    {
     "data": {
      "text/plain": [
       "0.012"
      ]
     },
     "execution_count": 68,
     "metadata": {},
     "output_type": "execute_result"
    }
   ],
   "source": [
    "# from INR to USD\n",
    "inr_to_usd = response.json()['rates']['USD']\n",
    "inr_to_usd"
   ]
  },
  {
   "cell_type": "code",
   "execution_count": 69,
   "metadata": {},
   "outputs": [
    {
     "data": {
      "text/plain": [
       "1200.0"
      ]
     },
     "execution_count": 69,
     "metadata": {},
     "output_type": "execute_result"
    }
   ],
   "source": [
    "# from Lakh to USD\n",
    "lakh_to_usd = inr_to_usd*100000\n",
    "lakh_to_usd"
   ]
  },
  {
   "cell_type": "code",
   "execution_count": 70,
   "metadata": {},
   "outputs": [
    {
     "name": "stdout",
     "output_type": "stream",
     "text": [
      "Price in USD: 4985.552244296002\n"
     ]
    }
   ],
   "source": [
    "# From Lakhs to USD\n",
    "price_usd = price[0] * lakh_to_usd\n",
    "print('Price in USD:', price_usd)"
   ]
  },
  {
   "cell_type": "code",
   "execution_count": 71,
   "metadata": {},
   "outputs": [],
   "source": [
    "# Extract Data for Deployment\n",
    "locations = df_copy.Location.unique().tolist()\n",
    "years = df_copy.Year.unique().tolist()\n",
    "Owner_Type = df_copy.Owner_Type.unique().tolist()\n",
    "Min_Mileage, Max_Mileage = df_copy.Mileage.min(), df_copy.Mileage.max()\n",
    "Min_Engine, Max_Engine = df_copy.Engine.min(), df_copy.Engine.max()\n",
    "Min_Power, Max_Power = df_copy.Power.min(), df_copy.Power.max()\n",
    "\n",
    "# Models for every brand\n",
    "brands = {}         # key: brand, value: list of models\n",
    "for brand in df_copy.Brand.unique().tolist():\n",
    "    brands[brand] = df_copy[df_copy.Brand == brand].Model.unique().tolist()\n",
    "# Seats for every model\n",
    "seats = {}          # key: model, value: list of seats\n",
    "for model in df_copy.Model.unique().tolist():\n",
    "    seats[model] = df_copy[df_copy.Model == model].Seats.unique().tolist()\n",
    "\n",
    "# Transmissions\n",
    "transmissions = {}\n",
    "for model in df_copy.Model.unique().tolist():\n",
    "    transmissions[model] = df_copy[df_copy.Model == model].Transmission.unique().tolist()\n",
    "\n",
    "# Fuel Types\n",
    "fuel_types = {}\n",
    "for model in df_copy.Model.unique().tolist():\n",
    "    fuel_types[model] = df_copy[df_copy.Model == model].Fuel_Type.unique().tolist()\n",
    "\n",
    "# Save the data\n",
    "data = {'locations': locations,\n",
    "        'years': years,\n",
    "        'fuel_types': fuel_types,\n",
    "        'transmissions': transmissions,\n",
    "        'brands': brands,\n",
    "        'Owner_Type': Owner_Type,\n",
    "        'Min_Mileage': Min_Mileage,\n",
    "        'Max_Mileage': Max_Mileage,\n",
    "        'Min_Engine': Min_Engine,\n",
    "        'Max_Engine': Max_Engine,\n",
    "        'Min_Power': Min_Power,\n",
    "        'Max_Power': Max_Power,\n",
    "        'seats': seats,\n",
    "        'lakh_to_usd': lakh_to_usd\n",
    "        }\n",
    "\n",
    "pickle.dump(data, open('data_for_deploy.pkl', 'wb'))"
   ]
  },
  {
   "attachments": {},
   "cell_type": "markdown",
   "metadata": {},
   "source": [
    "# Streamlit"
   ]
  },
  {
   "cell_type": "code",
   "execution_count": 72,
   "metadata": {},
   "outputs": [
    {
     "name": "stdout",
     "output_type": "stream",
     "text": [
      "Overwriting app.py\n"
     ]
    }
   ],
   "source": [
    "%%writefile app.py\n",
    "\n",
    "import streamlit as st\n",
    "import pandas as pd\n",
    "import numpy as np\n",
    "import pickle\n",
    "\n",
    "st.title('Used Cars Price Prediction')\n",
    "\n",
    "# Load Data for Deployment\n",
    "data = pickle.load(open('data_for_deploy.pkl', 'rb'))\n",
    "\n",
    "# Input Data\n",
    "car_brand = st.selectbox('Brand', data['brands'].keys())\n",
    "car_model = st.selectbox('Model', data['brands'][car_brand])\n",
    "fuel_type = st.selectbox('Fuel Type', data['fuel_types'][car_model])\n",
    "transmission = st.selectbox('Transmission', data['transmissions'][car_model])\n",
    "seats = st.selectbox('Seats', data['seats'][car_model])\n",
    "\n",
    "location = st.selectbox('Location', data['locations'])\n",
    "year = st.selectbox('Year', range(min(data['years']), max(data['years'])+1))\n",
    "km_driven = st.slider('Kilometers Driven', min_value= 10, max_value=500000, step=1)\n",
    "\n",
    "owner_type = st.selectbox('Owner Type', data['Owner_Type'])\n",
    "mileage = st.slider('Mileage', min_value=data['Min_Mileage'], max_value=data['Max_Mileage'])\n",
    "engine = st.slider('Engine', min_value=data['Min_Engine'], max_value=data['Max_Engine'])\n",
    "power = st.slider('Power', min_value=data['Min_Power'], max_value=data['Max_Power'])\n",
    "\n",
    "\n",
    "\n",
    "new_data = pd.DataFrame({'Location': location,\n",
    "                         'Year': year,\n",
    "                         'Kilometers_Driven': km_driven,\n",
    "                         'Fuel_Type': fuel_type,\n",
    "                         'Transmission': transmission,\n",
    "                         'Owner_Type': owner_type,\n",
    "                         'Mileage': mileage,\n",
    "                         'Engine': engine,\n",
    "                         'Power': power,\n",
    "                         'Seats': seats,\n",
    "                         'Brand': car_brand,\n",
    "                         'Model': car_model}, index=[0])\n",
    "\n",
    "# Preprocessing\n",
    "preprocessor = pickle.load(open('preprocessor.pkl', 'rb'))\n",
    "new_data_preprocessed = preprocessor.transform(new_data)\n",
    "\n",
    "\n",
    "# Prediction\n",
    "model = pickle.load(open('model.pkl', 'rb'))\n",
    "log_price = model.predict(new_data_preprocessed) # in log scale\n",
    "price = np.expm1(log_price) # in original scale\n",
    "\n",
    "# From Lakhs to USD\n",
    "price_usd = price[0] * data['lakh_to_usd']\n",
    "\n",
    "# Output\n",
    "if st.button('Predict'):\n",
    "    st.header('Predicted Price')\n",
    "    st.markdown('**Price in USD**: $' + str(round(price_usd, 2)))\n",
    "\n"
   ]
  },
  {
   "cell_type": "code",
   "execution_count": null,
   "metadata": {},
   "outputs": [],
   "source": []
  }
 ],
 "metadata": {
  "kernelspec": {
   "display_name": "base",
   "language": "python",
   "name": "python3"
  },
  "language_info": {
   "codemirror_mode": {
    "name": "ipython",
    "version": 3
   },
   "file_extension": ".py",
   "mimetype": "text/x-python",
   "name": "python",
   "nbconvert_exporter": "python",
   "pygments_lexer": "ipython3",
   "version": "3.11.4"
  },
  "orig_nbformat": 4
 },
 "nbformat": 4,
 "nbformat_minor": 2
}
